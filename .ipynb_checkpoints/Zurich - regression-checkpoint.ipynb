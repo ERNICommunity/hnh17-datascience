{
 "cells": [
  {
   "cell_type": "code",
   "execution_count": 86,
   "metadata": {},
   "outputs": [],
   "source": [
    "from keras.models import Sequential\n",
    "from keras.layers import Dense\n",
    "import numpy as np\n",
    "import pandas as pd"
   ]
  },
  {
   "cell_type": "code",
   "execution_count": 87,
   "metadata": {},
   "outputs": [],
   "source": [
    "seed = 7\n",
    "np.random.seed(seed)\n",
    "dataset = pd.read_csv(r'E:\\OneDrive\\Documents\\hnh17-datascience\\zurich.csv')\n",
    "dataset.dropna(inplace=True)"
   ]
  },
  {
   "cell_type": "code",
   "execution_count": 88,
   "metadata": {},
   "outputs": [
    {
     "data": {
      "text/html": [
       "<div>\n",
       "<style>\n",
       "    .dataframe thead tr:only-child th {\n",
       "        text-align: right;\n",
       "    }\n",
       "\n",
       "    .dataframe thead th {\n",
       "        text-align: left;\n",
       "    }\n",
       "\n",
       "    .dataframe tbody tr th {\n",
       "        vertical-align: top;\n",
       "    }\n",
       "</style>\n",
       "<table border=\"1\" class=\"dataframe\">\n",
       "  <thead>\n",
       "    <tr style=\"text-align: right;\">\n",
       "      <th></th>\n",
       "      <th>date</th>\n",
       "      <th>pm10</th>\n",
       "      <th>hour</th>\n",
       "      <th>T</th>\n",
       "      <th>P</th>\n",
       "      <th>wind</th>\n",
       "      <th>hum</th>\n",
       "      <th>traffic</th>\n",
       "    </tr>\n",
       "  </thead>\n",
       "  <tbody>\n",
       "    <tr>\n",
       "      <th>0</th>\n",
       "      <td>19/08/2017 16:00</td>\n",
       "      <td>5.07</td>\n",
       "      <td>16</td>\n",
       "      <td>22.45</td>\n",
       "      <td>969.32</td>\n",
       "      <td>2.60</td>\n",
       "      <td>52</td>\n",
       "      <td>431.428571</td>\n",
       "    </tr>\n",
       "    <tr>\n",
       "      <th>1</th>\n",
       "      <td>19/08/2017 17:00</td>\n",
       "      <td>5.40</td>\n",
       "      <td>17</td>\n",
       "      <td>22.28</td>\n",
       "      <td>969.42</td>\n",
       "      <td>2.99</td>\n",
       "      <td>50</td>\n",
       "      <td>425.714286</td>\n",
       "    </tr>\n",
       "    <tr>\n",
       "      <th>2</th>\n",
       "      <td>19/08/2017 18:00</td>\n",
       "      <td>5.92</td>\n",
       "      <td>18</td>\n",
       "      <td>21.70</td>\n",
       "      <td>969.85</td>\n",
       "      <td>2.59</td>\n",
       "      <td>48</td>\n",
       "      <td>364.000000</td>\n",
       "    </tr>\n",
       "    <tr>\n",
       "      <th>3</th>\n",
       "      <td>19/08/2017 19:00</td>\n",
       "      <td>6.12</td>\n",
       "      <td>19</td>\n",
       "      <td>20.69</td>\n",
       "      <td>970.32</td>\n",
       "      <td>1.97</td>\n",
       "      <td>48</td>\n",
       "      <td>248.285714</td>\n",
       "    </tr>\n",
       "    <tr>\n",
       "      <th>4</th>\n",
       "      <td>19/08/2017 20:00</td>\n",
       "      <td>6.56</td>\n",
       "      <td>20</td>\n",
       "      <td>19.65</td>\n",
       "      <td>971.09</td>\n",
       "      <td>1.60</td>\n",
       "      <td>48</td>\n",
       "      <td>174.285714</td>\n",
       "    </tr>\n",
       "  </tbody>\n",
       "</table>\n",
       "</div>"
      ],
      "text/plain": [
       "               date  pm10  hour      T       P  wind  hum     traffic\n",
       "0  19/08/2017 16:00  5.07    16  22.45  969.32  2.60   52  431.428571\n",
       "1  19/08/2017 17:00  5.40    17  22.28  969.42  2.99   50  425.714286\n",
       "2  19/08/2017 18:00  5.92    18  21.70  969.85  2.59   48  364.000000\n",
       "3  19/08/2017 19:00  6.12    19  20.69  970.32  1.97   48  248.285714\n",
       "4  19/08/2017 20:00  6.56    20  19.65  971.09  1.60   48  174.285714"
      ]
     },
     "execution_count": 88,
     "metadata": {},
     "output_type": "execute_result"
    }
   ],
   "source": [
    "dataset.head()"
   ]
  },
  {
   "cell_type": "code",
   "execution_count": 89,
   "metadata": {
    "collapsed": true
   },
   "outputs": [],
   "source": [
    "# dataset['previousPM2'] = dataset['pm2.5'].shift(2)"
   ]
  },
  {
   "cell_type": "code",
   "execution_count": 90,
   "metadata": {
    "collapsed": true
   },
   "outputs": [],
   "source": [
    "# dataset['previousPM3'] = dataset['pm2.5'].shift(3)"
   ]
  },
  {
   "cell_type": "code",
   "execution_count": 91,
   "metadata": {
    "collapsed": true
   },
   "outputs": [],
   "source": [
    "# dataset['previousPM4'] = dataset['pm2.5'].shift(4)"
   ]
  },
  {
   "cell_type": "code",
   "execution_count": 92,
   "metadata": {
    "collapsed": true
   },
   "outputs": [],
   "source": [
    "# dataset['previousPM5'] = dataset['pm2.5'].shift(5)"
   ]
  },
  {
   "cell_type": "code",
   "execution_count": 93,
   "metadata": {
    "collapsed": true
   },
   "outputs": [],
   "source": [
    "dataset.dropna(inplace=True)"
   ]
  },
  {
   "cell_type": "code",
   "execution_count": 94,
   "metadata": {},
   "outputs": [
    {
     "data": {
      "text/html": [
       "<div>\n",
       "<style>\n",
       "    .dataframe thead tr:only-child th {\n",
       "        text-align: right;\n",
       "    }\n",
       "\n",
       "    .dataframe thead th {\n",
       "        text-align: left;\n",
       "    }\n",
       "\n",
       "    .dataframe tbody tr th {\n",
       "        vertical-align: top;\n",
       "    }\n",
       "</style>\n",
       "<table border=\"1\" class=\"dataframe\">\n",
       "  <thead>\n",
       "    <tr style=\"text-align: right;\">\n",
       "      <th></th>\n",
       "      <th>date</th>\n",
       "      <th>pm10</th>\n",
       "      <th>hour</th>\n",
       "      <th>T</th>\n",
       "      <th>P</th>\n",
       "      <th>wind</th>\n",
       "      <th>hum</th>\n",
       "      <th>traffic</th>\n",
       "    </tr>\n",
       "  </thead>\n",
       "  <tbody>\n",
       "    <tr>\n",
       "      <th>0</th>\n",
       "      <td>19/08/2017 16:00</td>\n",
       "      <td>5.07</td>\n",
       "      <td>16</td>\n",
       "      <td>22.45</td>\n",
       "      <td>969.32</td>\n",
       "      <td>2.60</td>\n",
       "      <td>52</td>\n",
       "      <td>431.428571</td>\n",
       "    </tr>\n",
       "    <tr>\n",
       "      <th>1</th>\n",
       "      <td>19/08/2017 17:00</td>\n",
       "      <td>5.40</td>\n",
       "      <td>17</td>\n",
       "      <td>22.28</td>\n",
       "      <td>969.42</td>\n",
       "      <td>2.99</td>\n",
       "      <td>50</td>\n",
       "      <td>425.714286</td>\n",
       "    </tr>\n",
       "    <tr>\n",
       "      <th>2</th>\n",
       "      <td>19/08/2017 18:00</td>\n",
       "      <td>5.92</td>\n",
       "      <td>18</td>\n",
       "      <td>21.70</td>\n",
       "      <td>969.85</td>\n",
       "      <td>2.59</td>\n",
       "      <td>48</td>\n",
       "      <td>364.000000</td>\n",
       "    </tr>\n",
       "    <tr>\n",
       "      <th>3</th>\n",
       "      <td>19/08/2017 19:00</td>\n",
       "      <td>6.12</td>\n",
       "      <td>19</td>\n",
       "      <td>20.69</td>\n",
       "      <td>970.32</td>\n",
       "      <td>1.97</td>\n",
       "      <td>48</td>\n",
       "      <td>248.285714</td>\n",
       "    </tr>\n",
       "    <tr>\n",
       "      <th>4</th>\n",
       "      <td>19/08/2017 20:00</td>\n",
       "      <td>6.56</td>\n",
       "      <td>20</td>\n",
       "      <td>19.65</td>\n",
       "      <td>971.09</td>\n",
       "      <td>1.60</td>\n",
       "      <td>48</td>\n",
       "      <td>174.285714</td>\n",
       "    </tr>\n",
       "  </tbody>\n",
       "</table>\n",
       "</div>"
      ],
      "text/plain": [
       "               date  pm10  hour      T       P  wind  hum     traffic\n",
       "0  19/08/2017 16:00  5.07    16  22.45  969.32  2.60   52  431.428571\n",
       "1  19/08/2017 17:00  5.40    17  22.28  969.42  2.99   50  425.714286\n",
       "2  19/08/2017 18:00  5.92    18  21.70  969.85  2.59   48  364.000000\n",
       "3  19/08/2017 19:00  6.12    19  20.69  970.32  1.97   48  248.285714\n",
       "4  19/08/2017 20:00  6.56    20  19.65  971.09  1.60   48  174.285714"
      ]
     },
     "execution_count": 94,
     "metadata": {},
     "output_type": "execute_result"
    }
   ],
   "source": [
    "dataset.head()"
   ]
  },
  {
   "cell_type": "code",
   "execution_count": 95,
   "metadata": {
    "collapsed": true
   },
   "outputs": [],
   "source": [
    "data = dataset.values"
   ]
  },
  {
   "cell_type": "code",
   "execution_count": 96,
   "metadata": {},
   "outputs": [
    {
     "data": {
      "text/plain": [
       "array([['19/08/2017 16:00', 5.07, 16, ..., 2.6, 52, 431.42857139999995],\n",
       "       ['19/08/2017 17:00', 5.4, 17, ..., 2.99, 50, 425.7142857],\n",
       "       ['19/08/2017 18:00', 5.92, 18, ..., 2.59, 48, 364.0],\n",
       "       ..., \n",
       "       ['25/08/2017 21:00', 16.35, 21, ..., 1.34, 67, 204.8571429],\n",
       "       ['25/08/2017 22:00', 19.08, 22, ..., 0.97, 67, 195.4285714],\n",
       "       ['25/08/2017 23:00', 15.31, 23, ..., 1.46, 77, 146.8571429]], dtype=object)"
      ]
     },
     "execution_count": 96,
     "metadata": {},
     "output_type": "execute_result"
    }
   ],
   "source": [
    "data"
   ]
  },
  {
   "cell_type": "code",
   "execution_count": 97,
   "metadata": {
    "collapsed": true
   },
   "outputs": [],
   "source": [
    "### split the data into training and test data"
   ]
  },
  {
   "cell_type": "code",
   "execution_count": 98,
   "metadata": {
    "collapsed": true
   },
   "outputs": [],
   "source": [
    "from sklearn.model_selection import train_test_split"
   ]
  },
  {
   "cell_type": "code",
   "execution_count": 99,
   "metadata": {
    "collapsed": true
   },
   "outputs": [],
   "source": [
    "size = data[0].size\n",
    "X = data[:,3:]\n",
    "y = data[:,1]"
   ]
  },
  {
   "cell_type": "code",
   "execution_count": 100,
   "metadata": {
    "collapsed": true
   },
   "outputs": [],
   "source": [
    "X_train, X_test, y_train, y_test = train_test_split(X, y, test_size=0.33, random_state=42)"
   ]
  },
  {
   "cell_type": "code",
   "execution_count": 104,
   "metadata": {
    "collapsed": true
   },
   "outputs": [],
   "source": [
    "from sklearn import datasets, linear_model"
   ]
  },
  {
   "cell_type": "code",
   "execution_count": 107,
   "metadata": {
    "collapsed": true
   },
   "outputs": [],
   "source": [
    "regr = linear_model.LinearRegression()"
   ]
  },
  {
   "cell_type": "code",
   "execution_count": 108,
   "metadata": {},
   "outputs": [
    {
     "data": {
      "text/plain": [
       "LinearRegression(copy_X=True, fit_intercept=True, n_jobs=1, normalize=False)"
      ]
     },
     "execution_count": 108,
     "metadata": {},
     "output_type": "execute_result"
    }
   ],
   "source": [
    "regr.fit(X_train, y_train)"
   ]
  },
  {
   "cell_type": "code",
   "execution_count": 111,
   "metadata": {},
   "outputs": [],
   "source": [
    "prediction = regr.predict(X_test)"
   ]
  },
  {
   "cell_type": "code",
   "execution_count": 117,
   "metadata": {
    "collapsed": true
   },
   "outputs": [],
   "source": [
    "from sklearn.metrics import mean_squared_error, r2_score"
   ]
  },
  {
   "cell_type": "code",
   "execution_count": 122,
   "metadata": {},
   "outputs": [
    {
     "name": "stdout",
     "output_type": "stream",
     "text": [
      "Coefficients: \n",
      " [ 0.46630299 -0.3883921  -0.17333223  0.17682227  0.00776318]\n",
      "Mean squared error: 14.310971692020512\n",
      "Variance score: 0.5567835349761585\n"
     ]
    }
   ],
   "source": [
    "# The coefficients\n",
    "print('Coefficients: \\n', regr.coef_)\n",
    "# The mean squared error\n",
    "print(\"Mean squared error: {}\".format(mean_squared_error(y_test, prediction)))\n",
    "# Explained variance score: 1 is perfect prediction\n",
    "print('Variance score: {}'.format(r2_score(y_test, prediction)))\n"
   ]
  },
  {
   "cell_type": "code",
   "execution_count": null,
   "metadata": {
    "collapsed": true
   },
   "outputs": [],
   "source": []
  }
 ],
 "metadata": {
  "kernelspec": {
   "display_name": "Python 3",
   "language": "python",
   "name": "python3"
  },
  "language_info": {
   "codemirror_mode": {
    "name": "ipython",
    "version": 3
   },
   "file_extension": ".py",
   "mimetype": "text/x-python",
   "name": "python",
   "nbconvert_exporter": "python",
   "pygments_lexer": "ipython3",
   "version": "3.5.3"
  }
 },
 "nbformat": 4,
 "nbformat_minor": 2
}
