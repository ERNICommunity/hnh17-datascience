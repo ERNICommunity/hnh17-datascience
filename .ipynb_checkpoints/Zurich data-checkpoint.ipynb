{
 "cells": [
  {
   "cell_type": "code",
   "execution_count": 281,
   "metadata": {},
   "outputs": [],
   "source": [
    "from keras.models import Sequential\n",
    "from keras.layers import Dense\n",
    "import numpy as np\n",
    "import pandas as pd"
   ]
  },
  {
   "cell_type": "code",
   "execution_count": 282,
   "metadata": {
    "collapsed": true
   },
   "outputs": [],
   "source": [
    "seed = 7\n",
    "np.random.seed(seed)\n",
    "dataset = pd.read_csv(r'C:\\Users\\Angus\\Documents\\hnh17-datascience\\zurich.csv')\n",
    "dataset.dropna(inplace=True)"
   ]
  },
  {
   "cell_type": "code",
   "execution_count": 283,
   "metadata": {},
   "outputs": [],
   "source": [
    "#dataset['date'] = [x[11:] for x in dataset['date']]"
   ]
  },
  {
   "cell_type": "code",
   "execution_count": 284,
   "metadata": {
    "collapsed": true
   },
   "outputs": [],
   "source": [
    "# dataset = dataset[25:]"
   ]
  },
  {
   "cell_type": "code",
   "execution_count": 285,
   "metadata": {},
   "outputs": [
    {
     "data": {
      "text/html": [
       "<div>\n",
       "<style>\n",
       "    .dataframe thead tr:only-child th {\n",
       "        text-align: right;\n",
       "    }\n",
       "\n",
       "    .dataframe thead th {\n",
       "        text-align: left;\n",
       "    }\n",
       "\n",
       "    .dataframe tbody tr th {\n",
       "        vertical-align: top;\n",
       "    }\n",
       "</style>\n",
       "<table border=\"1\" class=\"dataframe\">\n",
       "  <thead>\n",
       "    <tr style=\"text-align: right;\">\n",
       "      <th></th>\n",
       "      <th>date</th>\n",
       "      <th>pm10</th>\n",
       "      <th>hour</th>\n",
       "      <th>T</th>\n",
       "      <th>P</th>\n",
       "      <th>wind</th>\n",
       "      <th>hum</th>\n",
       "      <th>traffic</th>\n",
       "    </tr>\n",
       "  </thead>\n",
       "  <tbody>\n",
       "    <tr>\n",
       "      <th>0</th>\n",
       "      <td>19/08/2017 16:00</td>\n",
       "      <td>5.07</td>\n",
       "      <td>16</td>\n",
       "      <td>22.45</td>\n",
       "      <td>969.32</td>\n",
       "      <td>2.60</td>\n",
       "      <td>52</td>\n",
       "      <td>431.428571</td>\n",
       "    </tr>\n",
       "    <tr>\n",
       "      <th>1</th>\n",
       "      <td>19/08/2017 17:00</td>\n",
       "      <td>5.40</td>\n",
       "      <td>17</td>\n",
       "      <td>22.28</td>\n",
       "      <td>969.42</td>\n",
       "      <td>2.99</td>\n",
       "      <td>50</td>\n",
       "      <td>425.714286</td>\n",
       "    </tr>\n",
       "    <tr>\n",
       "      <th>2</th>\n",
       "      <td>19/08/2017 18:00</td>\n",
       "      <td>5.92</td>\n",
       "      <td>18</td>\n",
       "      <td>21.70</td>\n",
       "      <td>969.85</td>\n",
       "      <td>2.59</td>\n",
       "      <td>48</td>\n",
       "      <td>364.000000</td>\n",
       "    </tr>\n",
       "    <tr>\n",
       "      <th>3</th>\n",
       "      <td>19/08/2017 19:00</td>\n",
       "      <td>6.12</td>\n",
       "      <td>19</td>\n",
       "      <td>20.69</td>\n",
       "      <td>970.32</td>\n",
       "      <td>1.97</td>\n",
       "      <td>48</td>\n",
       "      <td>248.285714</td>\n",
       "    </tr>\n",
       "    <tr>\n",
       "      <th>4</th>\n",
       "      <td>19/08/2017 20:00</td>\n",
       "      <td>6.56</td>\n",
       "      <td>20</td>\n",
       "      <td>19.65</td>\n",
       "      <td>971.09</td>\n",
       "      <td>1.60</td>\n",
       "      <td>48</td>\n",
       "      <td>174.285714</td>\n",
       "    </tr>\n",
       "  </tbody>\n",
       "</table>\n",
       "</div>"
      ],
      "text/plain": [
       "               date  pm10  hour      T       P  wind  hum     traffic\n",
       "0  19/08/2017 16:00  5.07    16  22.45  969.32  2.60   52  431.428571\n",
       "1  19/08/2017 17:00  5.40    17  22.28  969.42  2.99   50  425.714286\n",
       "2  19/08/2017 18:00  5.92    18  21.70  969.85  2.59   48  364.000000\n",
       "3  19/08/2017 19:00  6.12    19  20.69  970.32  1.97   48  248.285714\n",
       "4  19/08/2017 20:00  6.56    20  19.65  971.09  1.60   48  174.285714"
      ]
     },
     "execution_count": 285,
     "metadata": {},
     "output_type": "execute_result"
    }
   ],
   "source": [
    "dataset.head()"
   ]
  },
  {
   "cell_type": "code",
   "execution_count": 286,
   "metadata": {
    "collapsed": true
   },
   "outputs": [],
   "source": [
    "# dataset['previousPM2'] = dataset['pm2.5'].shift(2)"
   ]
  },
  {
   "cell_type": "code",
   "execution_count": 287,
   "metadata": {
    "collapsed": true
   },
   "outputs": [],
   "source": [
    "# dataset['previousPM3'] = dataset['pm2.5'].shift(3)"
   ]
  },
  {
   "cell_type": "code",
   "execution_count": 288,
   "metadata": {
    "collapsed": true
   },
   "outputs": [],
   "source": [
    "# dataset['previousPM4'] = dataset['pm2.5'].shift(4)"
   ]
  },
  {
   "cell_type": "code",
   "execution_count": 289,
   "metadata": {
    "collapsed": true
   },
   "outputs": [],
   "source": [
    "# dataset['previousPM5'] = dataset['pm2.5'].shift(5)"
   ]
  },
  {
   "cell_type": "code",
   "execution_count": 290,
   "metadata": {
    "collapsed": true
   },
   "outputs": [],
   "source": [
    "#dataset['goodbad'] = np.where(dataset['pm2.5'] > 150, 1, 0)"
   ]
  },
  {
   "cell_type": "code",
   "execution_count": 291,
   "metadata": {
    "collapsed": true
   },
   "outputs": [],
   "source": [
    "dataset['goodbad'] = np.where(dataset['pm10'] > 10, 1, 0)"
   ]
  },
  {
   "cell_type": "code",
   "execution_count": 292,
   "metadata": {
    "collapsed": true
   },
   "outputs": [],
   "source": [
    "dataset.dropna(inplace=True)"
   ]
  },
  {
   "cell_type": "code",
   "execution_count": 293,
   "metadata": {},
   "outputs": [
    {
     "data": {
      "text/html": [
       "<div>\n",
       "<style>\n",
       "    .dataframe thead tr:only-child th {\n",
       "        text-align: right;\n",
       "    }\n",
       "\n",
       "    .dataframe thead th {\n",
       "        text-align: left;\n",
       "    }\n",
       "\n",
       "    .dataframe tbody tr th {\n",
       "        vertical-align: top;\n",
       "    }\n",
       "</style>\n",
       "<table border=\"1\" class=\"dataframe\">\n",
       "  <thead>\n",
       "    <tr style=\"text-align: right;\">\n",
       "      <th></th>\n",
       "      <th>date</th>\n",
       "      <th>pm10</th>\n",
       "      <th>hour</th>\n",
       "      <th>T</th>\n",
       "      <th>P</th>\n",
       "      <th>wind</th>\n",
       "      <th>hum</th>\n",
       "      <th>traffic</th>\n",
       "      <th>goodbad</th>\n",
       "    </tr>\n",
       "  </thead>\n",
       "  <tbody>\n",
       "    <tr>\n",
       "      <th>0</th>\n",
       "      <td>19/08/2017 16:00</td>\n",
       "      <td>5.07</td>\n",
       "      <td>16</td>\n",
       "      <td>22.45</td>\n",
       "      <td>969.32</td>\n",
       "      <td>2.60</td>\n",
       "      <td>52</td>\n",
       "      <td>431.428571</td>\n",
       "      <td>0</td>\n",
       "    </tr>\n",
       "    <tr>\n",
       "      <th>1</th>\n",
       "      <td>19/08/2017 17:00</td>\n",
       "      <td>5.40</td>\n",
       "      <td>17</td>\n",
       "      <td>22.28</td>\n",
       "      <td>969.42</td>\n",
       "      <td>2.99</td>\n",
       "      <td>50</td>\n",
       "      <td>425.714286</td>\n",
       "      <td>0</td>\n",
       "    </tr>\n",
       "    <tr>\n",
       "      <th>2</th>\n",
       "      <td>19/08/2017 18:00</td>\n",
       "      <td>5.92</td>\n",
       "      <td>18</td>\n",
       "      <td>21.70</td>\n",
       "      <td>969.85</td>\n",
       "      <td>2.59</td>\n",
       "      <td>48</td>\n",
       "      <td>364.000000</td>\n",
       "      <td>0</td>\n",
       "    </tr>\n",
       "    <tr>\n",
       "      <th>3</th>\n",
       "      <td>19/08/2017 19:00</td>\n",
       "      <td>6.12</td>\n",
       "      <td>19</td>\n",
       "      <td>20.69</td>\n",
       "      <td>970.32</td>\n",
       "      <td>1.97</td>\n",
       "      <td>48</td>\n",
       "      <td>248.285714</td>\n",
       "      <td>0</td>\n",
       "    </tr>\n",
       "    <tr>\n",
       "      <th>4</th>\n",
       "      <td>19/08/2017 20:00</td>\n",
       "      <td>6.56</td>\n",
       "      <td>20</td>\n",
       "      <td>19.65</td>\n",
       "      <td>971.09</td>\n",
       "      <td>1.60</td>\n",
       "      <td>48</td>\n",
       "      <td>174.285714</td>\n",
       "      <td>0</td>\n",
       "    </tr>\n",
       "    <tr>\n",
       "      <th>5</th>\n",
       "      <td>19/08/2017 21:00</td>\n",
       "      <td>6.55</td>\n",
       "      <td>21</td>\n",
       "      <td>19.17</td>\n",
       "      <td>971.82</td>\n",
       "      <td>1.46</td>\n",
       "      <td>59</td>\n",
       "      <td>159.142857</td>\n",
       "      <td>0</td>\n",
       "    </tr>\n",
       "    <tr>\n",
       "      <th>6</th>\n",
       "      <td>19/08/2017 22:00</td>\n",
       "      <td>7.47</td>\n",
       "      <td>22</td>\n",
       "      <td>18.56</td>\n",
       "      <td>972.26</td>\n",
       "      <td>1.15</td>\n",
       "      <td>55</td>\n",
       "      <td>179.142857</td>\n",
       "      <td>0</td>\n",
       "    </tr>\n",
       "    <tr>\n",
       "      <th>7</th>\n",
       "      <td>19/08/2017 23:00</td>\n",
       "      <td>7.67</td>\n",
       "      <td>23</td>\n",
       "      <td>17.85</td>\n",
       "      <td>972.35</td>\n",
       "      <td>0.80</td>\n",
       "      <td>61</td>\n",
       "      <td>184.857143</td>\n",
       "      <td>0</td>\n",
       "    </tr>\n",
       "    <tr>\n",
       "      <th>8</th>\n",
       "      <td>20/08/2017 00:00</td>\n",
       "      <td>7.96</td>\n",
       "      <td>0</td>\n",
       "      <td>16.97</td>\n",
       "      <td>972.19</td>\n",
       "      <td>0.95</td>\n",
       "      <td>66</td>\n",
       "      <td>136.571429</td>\n",
       "      <td>0</td>\n",
       "    </tr>\n",
       "    <tr>\n",
       "      <th>9</th>\n",
       "      <td>20/08/2017 01:00</td>\n",
       "      <td>6.94</td>\n",
       "      <td>1</td>\n",
       "      <td>16.80</td>\n",
       "      <td>972.19</td>\n",
       "      <td>0.64</td>\n",
       "      <td>65</td>\n",
       "      <td>91.142857</td>\n",
       "      <td>0</td>\n",
       "    </tr>\n",
       "    <tr>\n",
       "      <th>10</th>\n",
       "      <td>20/08/2017 02:00</td>\n",
       "      <td>7.78</td>\n",
       "      <td>2</td>\n",
       "      <td>15.92</td>\n",
       "      <td>972.22</td>\n",
       "      <td>0.71</td>\n",
       "      <td>69</td>\n",
       "      <td>61.142857</td>\n",
       "      <td>0</td>\n",
       "    </tr>\n",
       "    <tr>\n",
       "      <th>11</th>\n",
       "      <td>20/08/2017 03:00</td>\n",
       "      <td>7.33</td>\n",
       "      <td>3</td>\n",
       "      <td>15.88</td>\n",
       "      <td>972.56</td>\n",
       "      <td>1.35</td>\n",
       "      <td>76</td>\n",
       "      <td>42.857143</td>\n",
       "      <td>0</td>\n",
       "    </tr>\n",
       "    <tr>\n",
       "      <th>12</th>\n",
       "      <td>20/08/2017 04:00</td>\n",
       "      <td>6.82</td>\n",
       "      <td>4</td>\n",
       "      <td>15.19</td>\n",
       "      <td>972.74</td>\n",
       "      <td>0.81</td>\n",
       "      <td>79</td>\n",
       "      <td>36.857143</td>\n",
       "      <td>0</td>\n",
       "    </tr>\n",
       "    <tr>\n",
       "      <th>13</th>\n",
       "      <td>20/08/2017 05:00</td>\n",
       "      <td>7.04</td>\n",
       "      <td>5</td>\n",
       "      <td>15.14</td>\n",
       "      <td>972.89</td>\n",
       "      <td>0.44</td>\n",
       "      <td>73</td>\n",
       "      <td>30.571429</td>\n",
       "      <td>0</td>\n",
       "    </tr>\n",
       "    <tr>\n",
       "      <th>14</th>\n",
       "      <td>20/08/2017 06:00</td>\n",
       "      <td>6.76</td>\n",
       "      <td>6</td>\n",
       "      <td>15.42</td>\n",
       "      <td>973.18</td>\n",
       "      <td>0.80</td>\n",
       "      <td>79</td>\n",
       "      <td>46.571429</td>\n",
       "      <td>0</td>\n",
       "    </tr>\n",
       "    <tr>\n",
       "      <th>15</th>\n",
       "      <td>20/08/2017 07:00</td>\n",
       "      <td>7.98</td>\n",
       "      <td>7</td>\n",
       "      <td>15.66</td>\n",
       "      <td>973.52</td>\n",
       "      <td>2.49</td>\n",
       "      <td>80</td>\n",
       "      <td>60.571429</td>\n",
       "      <td>0</td>\n",
       "    </tr>\n",
       "    <tr>\n",
       "      <th>16</th>\n",
       "      <td>20/08/2017 08:00</td>\n",
       "      <td>8.37</td>\n",
       "      <td>8</td>\n",
       "      <td>16.04</td>\n",
       "      <td>973.75</td>\n",
       "      <td>1.98</td>\n",
       "      <td>71</td>\n",
       "      <td>112.857143</td>\n",
       "      <td>0</td>\n",
       "    </tr>\n",
       "    <tr>\n",
       "      <th>17</th>\n",
       "      <td>20/08/2017 09:00</td>\n",
       "      <td>6.99</td>\n",
       "      <td>9</td>\n",
       "      <td>17.30</td>\n",
       "      <td>973.93</td>\n",
       "      <td>0.78</td>\n",
       "      <td>69</td>\n",
       "      <td>184.000000</td>\n",
       "      <td>0</td>\n",
       "    </tr>\n",
       "    <tr>\n",
       "      <th>18</th>\n",
       "      <td>20/08/2017 10:00</td>\n",
       "      <td>6.66</td>\n",
       "      <td>10</td>\n",
       "      <td>18.55</td>\n",
       "      <td>974.05</td>\n",
       "      <td>0.30</td>\n",
       "      <td>66</td>\n",
       "      <td>232.000000</td>\n",
       "      <td>0</td>\n",
       "    </tr>\n",
       "    <tr>\n",
       "      <th>19</th>\n",
       "      <td>20/08/2017 11:00</td>\n",
       "      <td>5.99</td>\n",
       "      <td>11</td>\n",
       "      <td>19.32</td>\n",
       "      <td>973.78</td>\n",
       "      <td>0.45</td>\n",
       "      <td>60</td>\n",
       "      <td>288.571429</td>\n",
       "      <td>0</td>\n",
       "    </tr>\n",
       "    <tr>\n",
       "      <th>20</th>\n",
       "      <td>20/08/2017 12:00</td>\n",
       "      <td>4.95</td>\n",
       "      <td>12</td>\n",
       "      <td>20.81</td>\n",
       "      <td>973.48</td>\n",
       "      <td>0.83</td>\n",
       "      <td>56</td>\n",
       "      <td>309.428571</td>\n",
       "      <td>0</td>\n",
       "    </tr>\n",
       "    <tr>\n",
       "      <th>21</th>\n",
       "      <td>20/08/2017 13:00</td>\n",
       "      <td>4.89</td>\n",
       "      <td>13</td>\n",
       "      <td>21.75</td>\n",
       "      <td>973.19</td>\n",
       "      <td>0.74</td>\n",
       "      <td>53</td>\n",
       "      <td>336.000000</td>\n",
       "      <td>0</td>\n",
       "    </tr>\n",
       "    <tr>\n",
       "      <th>22</th>\n",
       "      <td>20/08/2017 14:00</td>\n",
       "      <td>4.55</td>\n",
       "      <td>14</td>\n",
       "      <td>21.92</td>\n",
       "      <td>973.14</td>\n",
       "      <td>1.49</td>\n",
       "      <td>42</td>\n",
       "      <td>349.428571</td>\n",
       "      <td>0</td>\n",
       "    </tr>\n",
       "    <tr>\n",
       "      <th>23</th>\n",
       "      <td>20/08/2017 15:00</td>\n",
       "      <td>4.92</td>\n",
       "      <td>15</td>\n",
       "      <td>21.59</td>\n",
       "      <td>973.18</td>\n",
       "      <td>1.63</td>\n",
       "      <td>40</td>\n",
       "      <td>356.285714</td>\n",
       "      <td>0</td>\n",
       "    </tr>\n",
       "    <tr>\n",
       "      <th>24</th>\n",
       "      <td>20/08/2017 16:00</td>\n",
       "      <td>4.95</td>\n",
       "      <td>16</td>\n",
       "      <td>22.23</td>\n",
       "      <td>973.17</td>\n",
       "      <td>1.66</td>\n",
       "      <td>43</td>\n",
       "      <td>386.571429</td>\n",
       "      <td>0</td>\n",
       "    </tr>\n",
       "    <tr>\n",
       "      <th>25</th>\n",
       "      <td>20/08/2017 17:00</td>\n",
       "      <td>4.71</td>\n",
       "      <td>17</td>\n",
       "      <td>21.97</td>\n",
       "      <td>973.09</td>\n",
       "      <td>1.99</td>\n",
       "      <td>40</td>\n",
       "      <td>386.857143</td>\n",
       "      <td>0</td>\n",
       "    </tr>\n",
       "    <tr>\n",
       "      <th>26</th>\n",
       "      <td>20/08/2017 18:00</td>\n",
       "      <td>3.87</td>\n",
       "      <td>18</td>\n",
       "      <td>21.65</td>\n",
       "      <td>973.05</td>\n",
       "      <td>1.22</td>\n",
       "      <td>38</td>\n",
       "      <td>341.428571</td>\n",
       "      <td>0</td>\n",
       "    </tr>\n",
       "    <tr>\n",
       "      <th>27</th>\n",
       "      <td>20/08/2017 19:00</td>\n",
       "      <td>4.81</td>\n",
       "      <td>19</td>\n",
       "      <td>20.80</td>\n",
       "      <td>973.41</td>\n",
       "      <td>0.73</td>\n",
       "      <td>40</td>\n",
       "      <td>263.714286</td>\n",
       "      <td>0</td>\n",
       "    </tr>\n",
       "    <tr>\n",
       "      <th>28</th>\n",
       "      <td>20/08/2017 20:00</td>\n",
       "      <td>5.51</td>\n",
       "      <td>20</td>\n",
       "      <td>19.10</td>\n",
       "      <td>973.82</td>\n",
       "      <td>0.31</td>\n",
       "      <td>47</td>\n",
       "      <td>214.285714</td>\n",
       "      <td>0</td>\n",
       "    </tr>\n",
       "    <tr>\n",
       "      <th>29</th>\n",
       "      <td>20/08/2017 21:00</td>\n",
       "      <td>6.61</td>\n",
       "      <td>21</td>\n",
       "      <td>18.15</td>\n",
       "      <td>973.83</td>\n",
       "      <td>0.76</td>\n",
       "      <td>51</td>\n",
       "      <td>173.142857</td>\n",
       "      <td>0</td>\n",
       "    </tr>\n",
       "    <tr>\n",
       "      <th>...</th>\n",
       "      <td>...</td>\n",
       "      <td>...</td>\n",
       "      <td>...</td>\n",
       "      <td>...</td>\n",
       "      <td>...</td>\n",
       "      <td>...</td>\n",
       "      <td>...</td>\n",
       "      <td>...</td>\n",
       "      <td>...</td>\n",
       "    </tr>\n",
       "    <tr>\n",
       "      <th>121</th>\n",
       "      <td>24/08/2017 18:00</td>\n",
       "      <td>5.78</td>\n",
       "      <td>18</td>\n",
       "      <td>19.92</td>\n",
       "      <td>969.24</td>\n",
       "      <td>2.73</td>\n",
       "      <td>91</td>\n",
       "      <td>586.285714</td>\n",
       "      <td>0</td>\n",
       "    </tr>\n",
       "    <tr>\n",
       "      <th>122</th>\n",
       "      <td>24/08/2017 19:00</td>\n",
       "      <td>8.46</td>\n",
       "      <td>19</td>\n",
       "      <td>19.61</td>\n",
       "      <td>969.46</td>\n",
       "      <td>1.30</td>\n",
       "      <td>86</td>\n",
       "      <td>402.285714</td>\n",
       "      <td>0</td>\n",
       "    </tr>\n",
       "    <tr>\n",
       "      <th>123</th>\n",
       "      <td>24/08/2017 20:00</td>\n",
       "      <td>9.64</td>\n",
       "      <td>20</td>\n",
       "      <td>19.35</td>\n",
       "      <td>969.39</td>\n",
       "      <td>0.54</td>\n",
       "      <td>87</td>\n",
       "      <td>251.428571</td>\n",
       "      <td>0</td>\n",
       "    </tr>\n",
       "    <tr>\n",
       "      <th>124</th>\n",
       "      <td>24/08/2017 21:00</td>\n",
       "      <td>9.27</td>\n",
       "      <td>21</td>\n",
       "      <td>18.78</td>\n",
       "      <td>969.52</td>\n",
       "      <td>0.27</td>\n",
       "      <td>96</td>\n",
       "      <td>204.857143</td>\n",
       "      <td>0</td>\n",
       "    </tr>\n",
       "    <tr>\n",
       "      <th>125</th>\n",
       "      <td>24/08/2017 22:00</td>\n",
       "      <td>19.83</td>\n",
       "      <td>22</td>\n",
       "      <td>18.51</td>\n",
       "      <td>969.54</td>\n",
       "      <td>0.53</td>\n",
       "      <td>96</td>\n",
       "      <td>195.428571</td>\n",
       "      <td>1</td>\n",
       "    </tr>\n",
       "    <tr>\n",
       "      <th>126</th>\n",
       "      <td>24/08/2017 23:00</td>\n",
       "      <td>9.61</td>\n",
       "      <td>23</td>\n",
       "      <td>18.17</td>\n",
       "      <td>969.52</td>\n",
       "      <td>0.29</td>\n",
       "      <td>95</td>\n",
       "      <td>146.857143</td>\n",
       "      <td>0</td>\n",
       "    </tr>\n",
       "    <tr>\n",
       "      <th>127</th>\n",
       "      <td>25/08/2017 00:00</td>\n",
       "      <td>11.99</td>\n",
       "      <td>0</td>\n",
       "      <td>17.86</td>\n",
       "      <td>969.45</td>\n",
       "      <td>0.54</td>\n",
       "      <td>95</td>\n",
       "      <td>58.571429</td>\n",
       "      <td>1</td>\n",
       "    </tr>\n",
       "    <tr>\n",
       "      <th>128</th>\n",
       "      <td>25/08/2017 01:00</td>\n",
       "      <td>12.04</td>\n",
       "      <td>1</td>\n",
       "      <td>17.40</td>\n",
       "      <td>969.31</td>\n",
       "      <td>0.14</td>\n",
       "      <td>95</td>\n",
       "      <td>28.000000</td>\n",
       "      <td>1</td>\n",
       "    </tr>\n",
       "    <tr>\n",
       "      <th>129</th>\n",
       "      <td>25/08/2017 02:00</td>\n",
       "      <td>11.65</td>\n",
       "      <td>2</td>\n",
       "      <td>17.42</td>\n",
       "      <td>969.33</td>\n",
       "      <td>0.31</td>\n",
       "      <td>96</td>\n",
       "      <td>17.142857</td>\n",
       "      <td>1</td>\n",
       "    </tr>\n",
       "    <tr>\n",
       "      <th>130</th>\n",
       "      <td>25/08/2017 03:00</td>\n",
       "      <td>10.84</td>\n",
       "      <td>3</td>\n",
       "      <td>16.91</td>\n",
       "      <td>969.42</td>\n",
       "      <td>0.24</td>\n",
       "      <td>96</td>\n",
       "      <td>15.714286</td>\n",
       "      <td>1</td>\n",
       "    </tr>\n",
       "    <tr>\n",
       "      <th>131</th>\n",
       "      <td>25/08/2017 04:00</td>\n",
       "      <td>14.15</td>\n",
       "      <td>4</td>\n",
       "      <td>16.58</td>\n",
       "      <td>969.36</td>\n",
       "      <td>1.18</td>\n",
       "      <td>96</td>\n",
       "      <td>28.857143</td>\n",
       "      <td>1</td>\n",
       "    </tr>\n",
       "    <tr>\n",
       "      <th>132</th>\n",
       "      <td>25/08/2017 05:00</td>\n",
       "      <td>14.25</td>\n",
       "      <td>5</td>\n",
       "      <td>16.81</td>\n",
       "      <td>969.51</td>\n",
       "      <td>0.28</td>\n",
       "      <td>96</td>\n",
       "      <td>108.571429</td>\n",
       "      <td>1</td>\n",
       "    </tr>\n",
       "    <tr>\n",
       "      <th>133</th>\n",
       "      <td>25/08/2017 06:00</td>\n",
       "      <td>14.04</td>\n",
       "      <td>6</td>\n",
       "      <td>17.26</td>\n",
       "      <td>969.76</td>\n",
       "      <td>1.04</td>\n",
       "      <td>97</td>\n",
       "      <td>453.714286</td>\n",
       "      <td>1</td>\n",
       "    </tr>\n",
       "    <tr>\n",
       "      <th>134</th>\n",
       "      <td>25/08/2017 07:00</td>\n",
       "      <td>14.64</td>\n",
       "      <td>7</td>\n",
       "      <td>17.99</td>\n",
       "      <td>969.90</td>\n",
       "      <td>1.37</td>\n",
       "      <td>97</td>\n",
       "      <td>682.000000</td>\n",
       "      <td>1</td>\n",
       "    </tr>\n",
       "    <tr>\n",
       "      <th>135</th>\n",
       "      <td>25/08/2017 08:00</td>\n",
       "      <td>12.67</td>\n",
       "      <td>8</td>\n",
       "      <td>19.36</td>\n",
       "      <td>969.94</td>\n",
       "      <td>0.82</td>\n",
       "      <td>97</td>\n",
       "      <td>555.428571</td>\n",
       "      <td>1</td>\n",
       "    </tr>\n",
       "    <tr>\n",
       "      <th>136</th>\n",
       "      <td>25/08/2017 09:00</td>\n",
       "      <td>13.16</td>\n",
       "      <td>9</td>\n",
       "      <td>20.75</td>\n",
       "      <td>969.79</td>\n",
       "      <td>0.04</td>\n",
       "      <td>94</td>\n",
       "      <td>372.000000</td>\n",
       "      <td>1</td>\n",
       "    </tr>\n",
       "    <tr>\n",
       "      <th>137</th>\n",
       "      <td>25/08/2017 10:00</td>\n",
       "      <td>15.56</td>\n",
       "      <td>10</td>\n",
       "      <td>22.50</td>\n",
       "      <td>969.46</td>\n",
       "      <td>0.44</td>\n",
       "      <td>88</td>\n",
       "      <td>347.428571</td>\n",
       "      <td>1</td>\n",
       "    </tr>\n",
       "    <tr>\n",
       "      <th>138</th>\n",
       "      <td>25/08/2017 11:00</td>\n",
       "      <td>14.89</td>\n",
       "      <td>11</td>\n",
       "      <td>24.60</td>\n",
       "      <td>968.96</td>\n",
       "      <td>0.26</td>\n",
       "      <td>75</td>\n",
       "      <td>377.714286</td>\n",
       "      <td>1</td>\n",
       "    </tr>\n",
       "    <tr>\n",
       "      <th>139</th>\n",
       "      <td>25/08/2017 12:00</td>\n",
       "      <td>15.24</td>\n",
       "      <td>12</td>\n",
       "      <td>26.53</td>\n",
       "      <td>968.42</td>\n",
       "      <td>0.26</td>\n",
       "      <td>66</td>\n",
       "      <td>360.857143</td>\n",
       "      <td>1</td>\n",
       "    </tr>\n",
       "    <tr>\n",
       "      <th>140</th>\n",
       "      <td>25/08/2017 13:00</td>\n",
       "      <td>11.41</td>\n",
       "      <td>13</td>\n",
       "      <td>27.69</td>\n",
       "      <td>967.99</td>\n",
       "      <td>0.65</td>\n",
       "      <td>59</td>\n",
       "      <td>402.571429</td>\n",
       "      <td>1</td>\n",
       "    </tr>\n",
       "    <tr>\n",
       "      <th>141</th>\n",
       "      <td>25/08/2017 14:00</td>\n",
       "      <td>11.66</td>\n",
       "      <td>14</td>\n",
       "      <td>28.81</td>\n",
       "      <td>967.40</td>\n",
       "      <td>0.40</td>\n",
       "      <td>54</td>\n",
       "      <td>397.428571</td>\n",
       "      <td>1</td>\n",
       "    </tr>\n",
       "    <tr>\n",
       "      <th>142</th>\n",
       "      <td>25/08/2017 15:00</td>\n",
       "      <td>14.53</td>\n",
       "      <td>15</td>\n",
       "      <td>29.09</td>\n",
       "      <td>966.94</td>\n",
       "      <td>1.38</td>\n",
       "      <td>47</td>\n",
       "      <td>426.857143</td>\n",
       "      <td>1</td>\n",
       "    </tr>\n",
       "    <tr>\n",
       "      <th>143</th>\n",
       "      <td>25/08/2017 16:00</td>\n",
       "      <td>12.98</td>\n",
       "      <td>16</td>\n",
       "      <td>28.85</td>\n",
       "      <td>966.57</td>\n",
       "      <td>0.92</td>\n",
       "      <td>47</td>\n",
       "      <td>569.714286</td>\n",
       "      <td>1</td>\n",
       "    </tr>\n",
       "    <tr>\n",
       "      <th>144</th>\n",
       "      <td>25/08/2017 17:00</td>\n",
       "      <td>12.70</td>\n",
       "      <td>17</td>\n",
       "      <td>28.56</td>\n",
       "      <td>966.32</td>\n",
       "      <td>0.54</td>\n",
       "      <td>55</td>\n",
       "      <td>631.142857</td>\n",
       "      <td>1</td>\n",
       "    </tr>\n",
       "    <tr>\n",
       "      <th>145</th>\n",
       "      <td>25/08/2017 18:00</td>\n",
       "      <td>14.34</td>\n",
       "      <td>18</td>\n",
       "      <td>27.56</td>\n",
       "      <td>966.26</td>\n",
       "      <td>0.28</td>\n",
       "      <td>56</td>\n",
       "      <td>586.285714</td>\n",
       "      <td>1</td>\n",
       "    </tr>\n",
       "    <tr>\n",
       "      <th>146</th>\n",
       "      <td>25/08/2017 19:00</td>\n",
       "      <td>17.21</td>\n",
       "      <td>19</td>\n",
       "      <td>25.76</td>\n",
       "      <td>966.59</td>\n",
       "      <td>0.45</td>\n",
       "      <td>53</td>\n",
       "      <td>402.285714</td>\n",
       "      <td>1</td>\n",
       "    </tr>\n",
       "    <tr>\n",
       "      <th>147</th>\n",
       "      <td>25/08/2017 20:00</td>\n",
       "      <td>18.58</td>\n",
       "      <td>20</td>\n",
       "      <td>24.65</td>\n",
       "      <td>967.04</td>\n",
       "      <td>1.09</td>\n",
       "      <td>65</td>\n",
       "      <td>251.428571</td>\n",
       "      <td>1</td>\n",
       "    </tr>\n",
       "    <tr>\n",
       "      <th>148</th>\n",
       "      <td>25/08/2017 21:00</td>\n",
       "      <td>16.35</td>\n",
       "      <td>21</td>\n",
       "      <td>23.87</td>\n",
       "      <td>967.22</td>\n",
       "      <td>1.34</td>\n",
       "      <td>67</td>\n",
       "      <td>204.857143</td>\n",
       "      <td>1</td>\n",
       "    </tr>\n",
       "    <tr>\n",
       "      <th>149</th>\n",
       "      <td>25/08/2017 22:00</td>\n",
       "      <td>19.08</td>\n",
       "      <td>22</td>\n",
       "      <td>23.31</td>\n",
       "      <td>967.56</td>\n",
       "      <td>0.97</td>\n",
       "      <td>67</td>\n",
       "      <td>195.428571</td>\n",
       "      <td>1</td>\n",
       "    </tr>\n",
       "    <tr>\n",
       "      <th>150</th>\n",
       "      <td>25/08/2017 23:00</td>\n",
       "      <td>15.31</td>\n",
       "      <td>23</td>\n",
       "      <td>22.75</td>\n",
       "      <td>967.78</td>\n",
       "      <td>1.46</td>\n",
       "      <td>77</td>\n",
       "      <td>146.857143</td>\n",
       "      <td>1</td>\n",
       "    </tr>\n",
       "  </tbody>\n",
       "</table>\n",
       "<p>151 rows × 9 columns</p>\n",
       "</div>"
      ],
      "text/plain": [
       "                 date   pm10  hour      T       P  wind  hum     traffic  \\\n",
       "0    19/08/2017 16:00   5.07    16  22.45  969.32  2.60   52  431.428571   \n",
       "1    19/08/2017 17:00   5.40    17  22.28  969.42  2.99   50  425.714286   \n",
       "2    19/08/2017 18:00   5.92    18  21.70  969.85  2.59   48  364.000000   \n",
       "3    19/08/2017 19:00   6.12    19  20.69  970.32  1.97   48  248.285714   \n",
       "4    19/08/2017 20:00   6.56    20  19.65  971.09  1.60   48  174.285714   \n",
       "5    19/08/2017 21:00   6.55    21  19.17  971.82  1.46   59  159.142857   \n",
       "6    19/08/2017 22:00   7.47    22  18.56  972.26  1.15   55  179.142857   \n",
       "7    19/08/2017 23:00   7.67    23  17.85  972.35  0.80   61  184.857143   \n",
       "8    20/08/2017 00:00   7.96     0  16.97  972.19  0.95   66  136.571429   \n",
       "9    20/08/2017 01:00   6.94     1  16.80  972.19  0.64   65   91.142857   \n",
       "10   20/08/2017 02:00   7.78     2  15.92  972.22  0.71   69   61.142857   \n",
       "11   20/08/2017 03:00   7.33     3  15.88  972.56  1.35   76   42.857143   \n",
       "12   20/08/2017 04:00   6.82     4  15.19  972.74  0.81   79   36.857143   \n",
       "13   20/08/2017 05:00   7.04     5  15.14  972.89  0.44   73   30.571429   \n",
       "14   20/08/2017 06:00   6.76     6  15.42  973.18  0.80   79   46.571429   \n",
       "15   20/08/2017 07:00   7.98     7  15.66  973.52  2.49   80   60.571429   \n",
       "16   20/08/2017 08:00   8.37     8  16.04  973.75  1.98   71  112.857143   \n",
       "17   20/08/2017 09:00   6.99     9  17.30  973.93  0.78   69  184.000000   \n",
       "18   20/08/2017 10:00   6.66    10  18.55  974.05  0.30   66  232.000000   \n",
       "19   20/08/2017 11:00   5.99    11  19.32  973.78  0.45   60  288.571429   \n",
       "20   20/08/2017 12:00   4.95    12  20.81  973.48  0.83   56  309.428571   \n",
       "21   20/08/2017 13:00   4.89    13  21.75  973.19  0.74   53  336.000000   \n",
       "22   20/08/2017 14:00   4.55    14  21.92  973.14  1.49   42  349.428571   \n",
       "23   20/08/2017 15:00   4.92    15  21.59  973.18  1.63   40  356.285714   \n",
       "24   20/08/2017 16:00   4.95    16  22.23  973.17  1.66   43  386.571429   \n",
       "25   20/08/2017 17:00   4.71    17  21.97  973.09  1.99   40  386.857143   \n",
       "26   20/08/2017 18:00   3.87    18  21.65  973.05  1.22   38  341.428571   \n",
       "27   20/08/2017 19:00   4.81    19  20.80  973.41  0.73   40  263.714286   \n",
       "28   20/08/2017 20:00   5.51    20  19.10  973.82  0.31   47  214.285714   \n",
       "29   20/08/2017 21:00   6.61    21  18.15  973.83  0.76   51  173.142857   \n",
       "..                ...    ...   ...    ...     ...   ...  ...         ...   \n",
       "121  24/08/2017 18:00   5.78    18  19.92  969.24  2.73   91  586.285714   \n",
       "122  24/08/2017 19:00   8.46    19  19.61  969.46  1.30   86  402.285714   \n",
       "123  24/08/2017 20:00   9.64    20  19.35  969.39  0.54   87  251.428571   \n",
       "124  24/08/2017 21:00   9.27    21  18.78  969.52  0.27   96  204.857143   \n",
       "125  24/08/2017 22:00  19.83    22  18.51  969.54  0.53   96  195.428571   \n",
       "126  24/08/2017 23:00   9.61    23  18.17  969.52  0.29   95  146.857143   \n",
       "127  25/08/2017 00:00  11.99     0  17.86  969.45  0.54   95   58.571429   \n",
       "128  25/08/2017 01:00  12.04     1  17.40  969.31  0.14   95   28.000000   \n",
       "129  25/08/2017 02:00  11.65     2  17.42  969.33  0.31   96   17.142857   \n",
       "130  25/08/2017 03:00  10.84     3  16.91  969.42  0.24   96   15.714286   \n",
       "131  25/08/2017 04:00  14.15     4  16.58  969.36  1.18   96   28.857143   \n",
       "132  25/08/2017 05:00  14.25     5  16.81  969.51  0.28   96  108.571429   \n",
       "133  25/08/2017 06:00  14.04     6  17.26  969.76  1.04   97  453.714286   \n",
       "134  25/08/2017 07:00  14.64     7  17.99  969.90  1.37   97  682.000000   \n",
       "135  25/08/2017 08:00  12.67     8  19.36  969.94  0.82   97  555.428571   \n",
       "136  25/08/2017 09:00  13.16     9  20.75  969.79  0.04   94  372.000000   \n",
       "137  25/08/2017 10:00  15.56    10  22.50  969.46  0.44   88  347.428571   \n",
       "138  25/08/2017 11:00  14.89    11  24.60  968.96  0.26   75  377.714286   \n",
       "139  25/08/2017 12:00  15.24    12  26.53  968.42  0.26   66  360.857143   \n",
       "140  25/08/2017 13:00  11.41    13  27.69  967.99  0.65   59  402.571429   \n",
       "141  25/08/2017 14:00  11.66    14  28.81  967.40  0.40   54  397.428571   \n",
       "142  25/08/2017 15:00  14.53    15  29.09  966.94  1.38   47  426.857143   \n",
       "143  25/08/2017 16:00  12.98    16  28.85  966.57  0.92   47  569.714286   \n",
       "144  25/08/2017 17:00  12.70    17  28.56  966.32  0.54   55  631.142857   \n",
       "145  25/08/2017 18:00  14.34    18  27.56  966.26  0.28   56  586.285714   \n",
       "146  25/08/2017 19:00  17.21    19  25.76  966.59  0.45   53  402.285714   \n",
       "147  25/08/2017 20:00  18.58    20  24.65  967.04  1.09   65  251.428571   \n",
       "148  25/08/2017 21:00  16.35    21  23.87  967.22  1.34   67  204.857143   \n",
       "149  25/08/2017 22:00  19.08    22  23.31  967.56  0.97   67  195.428571   \n",
       "150  25/08/2017 23:00  15.31    23  22.75  967.78  1.46   77  146.857143   \n",
       "\n",
       "     goodbad  \n",
       "0          0  \n",
       "1          0  \n",
       "2          0  \n",
       "3          0  \n",
       "4          0  \n",
       "5          0  \n",
       "6          0  \n",
       "7          0  \n",
       "8          0  \n",
       "9          0  \n",
       "10         0  \n",
       "11         0  \n",
       "12         0  \n",
       "13         0  \n",
       "14         0  \n",
       "15         0  \n",
       "16         0  \n",
       "17         0  \n",
       "18         0  \n",
       "19         0  \n",
       "20         0  \n",
       "21         0  \n",
       "22         0  \n",
       "23         0  \n",
       "24         0  \n",
       "25         0  \n",
       "26         0  \n",
       "27         0  \n",
       "28         0  \n",
       "29         0  \n",
       "..       ...  \n",
       "121        0  \n",
       "122        0  \n",
       "123        0  \n",
       "124        0  \n",
       "125        1  \n",
       "126        0  \n",
       "127        1  \n",
       "128        1  \n",
       "129        1  \n",
       "130        1  \n",
       "131        1  \n",
       "132        1  \n",
       "133        1  \n",
       "134        1  \n",
       "135        1  \n",
       "136        1  \n",
       "137        1  \n",
       "138        1  \n",
       "139        1  \n",
       "140        1  \n",
       "141        1  \n",
       "142        1  \n",
       "143        1  \n",
       "144        1  \n",
       "145        1  \n",
       "146        1  \n",
       "147        1  \n",
       "148        1  \n",
       "149        1  \n",
       "150        1  \n",
       "\n",
       "[151 rows x 9 columns]"
      ]
     },
     "execution_count": 293,
     "metadata": {},
     "output_type": "execute_result"
    }
   ],
   "source": [
    "dataset"
   ]
  },
  {
   "cell_type": "code",
   "execution_count": 294,
   "metadata": {
    "collapsed": true
   },
   "outputs": [],
   "source": [
    "import matplotlib.pyplot as plt"
   ]
  },
  {
   "cell_type": "code",
   "execution_count": 295,
   "metadata": {},
   "outputs": [
    {
     "data": {
      "text/plain": [
       "<matplotlib.collections.PathCollection at 0x1855324e240>"
      ]
     },
     "execution_count": 295,
     "metadata": {},
     "output_type": "execute_result"
    }
   ],
   "source": [
    "plt.scatter(dataset['wind'],dataset['pm10'])"
   ]
  },
  {
   "cell_type": "code",
   "execution_count": 296,
   "metadata": {},
   "outputs": [
    {
     "data": {
      "text/plain": [
       "<matplotlib.text.Text at 0x18553229128>"
      ]
     },
     "execution_count": 296,
     "metadata": {},
     "output_type": "execute_result"
    }
   ],
   "source": [
    "plt.xlabel('wind')\n",
    "plt.ylabel('pm10')"
   ]
  },
  {
   "cell_type": "code",
   "execution_count": 297,
   "metadata": {},
   "outputs": [
    {
     "data": {
      "image/png": "[encoded data removed]",
      "text/plain": [
       "<matplotlib.figure.Figure at 0x185531735f8>"
      ]
     },
     "metadata": {},
     "output_type": "display_data"
    }
   ],
   "source": [
    "plt.show()"
   ]
  },
  {
   "cell_type": "code",
   "execution_count": 298,
   "metadata": {
    "collapsed": true
   },
   "outputs": [],
   "source": [
    "# from sklearn.preprocessing import LabelEncoder"
   ]
  },
  {
   "cell_type": "code",
   "execution_count": 299,
   "metadata": {
    "collapsed": true
   },
   "outputs": [],
   "source": [
    "# enc = LabelEncoder()\n",
    "# enc.fit(dataset['cbwd'])\n",
    "# dataset['cbwd'] = enc.transform(dataset['cbwd'])\n",
    "# dataset['previousCbwd'] = enc.transform(dataset['previousCbwd'])\n",
    "# dataset['previousCbwd2'] = enc.transform(dataset['previousCbwd2'])"
   ]
  },
  {
   "cell_type": "code",
   "execution_count": 300,
   "metadata": {
    "collapsed": true
   },
   "outputs": [],
   "source": [
    "data = dataset.values"
   ]
  },
  {
   "cell_type": "code",
   "execution_count": 301,
   "metadata": {},
   "outputs": [
    {
     "data": {
      "text/plain": [
       "array([['19/08/2017 16:00', 5.07, 16, ..., 52, 431.42857139999995, 0],\n",
       "       ['19/08/2017 17:00', 5.4, 17, ..., 50, 425.7142857, 0],\n",
       "       ['19/08/2017 18:00', 5.92, 18, ..., 48, 364.0, 0],\n",
       "       ..., \n",
       "       ['25/08/2017 21:00', 16.35, 21, ..., 67, 204.8571429, 1],\n",
       "       ['25/08/2017 22:00', 19.08, 22, ..., 67, 195.4285714, 1],\n",
       "       ['25/08/2017 23:00', 15.31, 23, ..., 77, 146.8571429, 1]], dtype=object)"
      ]
     },
     "execution_count": 301,
     "metadata": {},
     "output_type": "execute_result"
    }
   ],
   "source": [
    "data"
   ]
  },
  {
   "cell_type": "code",
   "execution_count": 302,
   "metadata": {
    "collapsed": true
   },
   "outputs": [],
   "source": [
    "### split the data into training and test data"
   ]
  },
  {
   "cell_type": "code",
   "execution_count": 303,
   "metadata": {
    "collapsed": true
   },
   "outputs": [],
   "source": [
    "### split into features and labels\n",
    "# PM 2.5 is on index 0"
   ]
  },
  {
   "cell_type": "code",
   "execution_count": 304,
   "metadata": {
    "collapsed": true
   },
   "outputs": [],
   "source": [
    "size = data[0].size\n",
    "X = data[:,5]\n",
    "Y = data[:,1]"
   ]
  },
  {
   "cell_type": "code",
   "execution_count": 328,
   "metadata": {},
   "outputs": [
    {
     "data": {
      "text/plain": [
       "array([2.6, 2.99, 2.59, 1.97, 1.6, 1.46, 1.15, 0.8, 0.95, 0.64, 0.71, 1.35,\n",
       "       0.81, 0.44, 0.8, 2.49, 1.98, 0.78, 0.3, 0.45, 0.83, 0.74, 1.49,\n",
       "       1.63, 1.66, 1.99, 1.22, 0.73, 0.31, 0.76, 1.42, 1.39, 0.65, 0.07,\n",
       "       0.53, 1.28, 1.75, 1.59, 1.59, 1.1, 1.7, 0.82, 1.18, 1.7, 0.82, 1.1,\n",
       "       0.62, 0.78, 0.29, 0.71, 1.58, 1.72, 0.75, 0.39, 1.01, 0.02, 0.8,\n",
       "       1.51, 2.06, 1.31, 1.28, 1.51, 1.29, 2.09, 0.69, 1.11, 1.0, 1.74,\n",
       "       1.26, 1.25, 1.41, 2.17, 1.27, 1.7, 1.79, 2.12, 1.3, 0.41, 0.95,\n",
       "       0.63, 1.75, 2.01, 1.91, 2.1, 1.77, 1.56, 1.4, 1.96, 1.18, 0.84,\n",
       "       0.23, 0.35, 0.33, 1.06, 0.92, 1.16, 0.94, 2.36, 1.88, 1.44, 0.16,\n",
       "       0.7, 1.33, 0.31, 0.46, 0.76, 0.37, 0.22, 0.46, 0.17, 0.03, 0.07,\n",
       "       0.48, 0.22, 0.76, 1.2, 0.17, 1.74, 4.82, 2.89, 4.7, 2.73, 1.3, 0.54,\n",
       "       0.27, 0.53, 0.29, 0.54, 0.14, 0.31, 0.24, 1.18, 0.28, 1.04, 1.37,\n",
       "       0.82, 0.04, 0.44, 0.26, 0.26, 0.65, 0.4, 1.38, 0.92, 0.54, 0.28,\n",
       "       0.45, 1.09, 1.34, 0.97, 1.46], dtype=object)"
      ]
     },
     "execution_count": 328,
     "metadata": {},
     "output_type": "execute_result"
    }
   ],
   "source": [
    "X"
   ]
  },
  {
   "cell_type": "code",
   "execution_count": 306,
   "metadata": {
    "collapsed": true
   },
   "outputs": [],
   "source": [
    "from sklearn.model_selection import train_test_split"
   ]
  },
  {
   "cell_type": "code",
   "execution_count": 314,
   "metadata": {},
   "outputs": [],
   "source": [
    "X_train, X_test, Y_train, Y_test = train_test_split(X, Y, test_size=.2)"
   ]
  },
  {
   "cell_type": "code",
   "execution_count": 329,
   "metadata": {},
   "outputs": [
    {
     "data": {
      "text/plain": [
       "array([[23.16, 7.94, 9.16, 11.49, 27.45, 19.08, 11.51, 32.09, 5.92, 17.19,\n",
       "        12.04, 15.24, 15.75, 9.61, 10.83, 19.83, 7.47, 6.61, 11.36, 8.46,\n",
       "        8.46, 12.67, 12.98, 8.59, 7.93, 7.31, 6.99, 22.05, 4.95, 4.92, 15.3]], dtype=object)"
      ]
     },
     "execution_count": 329,
     "metadata": {},
     "output_type": "execute_result"
    }
   ],
   "source": [
    "X_train.reshape(1,-1)\n",
    "X_test.reshape(1,-1)\n",
    "Y_train.reshape(1,-1)\n",
    "Y_test.reshape(1,-1)"
   ]
  },
  {
   "cell_type": "code",
   "execution_count": null,
   "metadata": {
    "collapsed": true
   },
   "outputs": [],
   "source": []
  },
  {
   "cell_type": "code",
   "execution_count": 330,
   "metadata": {
    "collapsed": true
   },
   "outputs": [],
   "source": [
    "from sklearn.linear_model import LinearRegression"
   ]
  },
  {
   "cell_type": "code",
   "execution_count": 331,
   "metadata": {
    "collapsed": true
   },
   "outputs": [],
   "source": [
    "linear_model = LinearRegression()"
   ]
  },
  {
   "cell_type": "code",
   "execution_count": 332,
   "metadata": {},
   "outputs": [
    {
     "name": "stderr",
     "output_type": "stream",
     "text": [
      "c:\\users\\angus\\miniconda3\\envs\\keras-ml\\lib\\site-packages\\sklearn\\utils\\validation.py:395: DeprecationWarning: Passing 1d arrays as data is deprecated in 0.17 and will raise ValueError in 0.19. Reshape your data either using X.reshape(-1, 1) if your data has a single feature or X.reshape(1, -1) if it contains a single sample.\n",
      "  DeprecationWarning)\n"
     ]
    },
    {
     "ename": "ValueError",
     "evalue": "Found input variables with inconsistent numbers of samples: [1, 120]",
     "output_type": "error",
     "traceback": [
      "\u001b[1;31m---------------------------------------------------------------------------\u001b[0m",
      "\u001b[1;31mValueError\u001b[0m                                Traceback (most recent call last)",
      "\u001b[1;32m<ipython-input-332-de35e3cce9c2>\u001b[0m in \u001b[0;36m<module>\u001b[1;34m()\u001b[0m\n\u001b[1;32m----> 1\u001b[1;33m \u001b[0mlinear_model\u001b[0m\u001b[1;33m.\u001b[0m\u001b[0mfit\u001b[0m\u001b[1;33m(\u001b[0m\u001b[0mX_train\u001b[0m\u001b[1;33m,\u001b[0m \u001b[0mY_train\u001b[0m\u001b[1;33m)\u001b[0m\u001b[1;33m\u001b[0m\u001b[0m\n\u001b[0m",
      "\u001b[1;32mc:\\users\\angus\\miniconda3\\envs\\keras-ml\\lib\\site-packages\\sklearn\\linear_model\\base.py\u001b[0m in \u001b[0;36mfit\u001b[1;34m(self, X, y, sample_weight)\u001b[0m\n\u001b[0;32m    510\u001b[0m         \u001b[0mn_jobs_\u001b[0m \u001b[1;33m=\u001b[0m \u001b[0mself\u001b[0m\u001b[1;33m.\u001b[0m\u001b[0mn_jobs\u001b[0m\u001b[1;33m\u001b[0m\u001b[0m\n\u001b[0;32m    511\u001b[0m         X, y = check_X_y(X, y, accept_sparse=['csr', 'csc', 'coo'],\n\u001b[1;32m--> 512\u001b[1;33m                          y_numeric=True, multi_output=True)\n\u001b[0m\u001b[0;32m    513\u001b[0m \u001b[1;33m\u001b[0m\u001b[0m\n\u001b[0;32m    514\u001b[0m         \u001b[1;32mif\u001b[0m \u001b[0msample_weight\u001b[0m \u001b[1;32mis\u001b[0m \u001b[1;32mnot\u001b[0m \u001b[1;32mNone\u001b[0m \u001b[1;32mand\u001b[0m \u001b[0mnp\u001b[0m\u001b[1;33m.\u001b[0m\u001b[0matleast_1d\u001b[0m\u001b[1;33m(\u001b[0m\u001b[0msample_weight\u001b[0m\u001b[1;33m)\u001b[0m\u001b[1;33m.\u001b[0m\u001b[0mndim\u001b[0m \u001b[1;33m>\u001b[0m \u001b[1;36m1\u001b[0m\u001b[1;33m:\u001b[0m\u001b[1;33m\u001b[0m\u001b[0m\n",
      "\u001b[1;32mc:\\users\\angus\\miniconda3\\envs\\keras-ml\\lib\\site-packages\\sklearn\\utils\\validation.py\u001b[0m in \u001b[0;36mcheck_X_y\u001b[1;34m(X, y, accept_sparse, dtype, order, copy, force_all_finite, ensure_2d, allow_nd, multi_output, ensure_min_samples, ensure_min_features, y_numeric, warn_on_dtype, estimator)\u001b[0m\n\u001b[0;32m    529\u001b[0m         \u001b[0my\u001b[0m \u001b[1;33m=\u001b[0m \u001b[0my\u001b[0m\u001b[1;33m.\u001b[0m\u001b[0mastype\u001b[0m\u001b[1;33m(\u001b[0m\u001b[0mnp\u001b[0m\u001b[1;33m.\u001b[0m\u001b[0mfloat64\u001b[0m\u001b[1;33m)\u001b[0m\u001b[1;33m\u001b[0m\u001b[0m\n\u001b[0;32m    530\u001b[0m \u001b[1;33m\u001b[0m\u001b[0m\n\u001b[1;32m--> 531\u001b[1;33m     \u001b[0mcheck_consistent_length\u001b[0m\u001b[1;33m(\u001b[0m\u001b[0mX\u001b[0m\u001b[1;33m,\u001b[0m \u001b[0my\u001b[0m\u001b[1;33m)\u001b[0m\u001b[1;33m\u001b[0m\u001b[0m\n\u001b[0m\u001b[0;32m    532\u001b[0m \u001b[1;33m\u001b[0m\u001b[0m\n\u001b[0;32m    533\u001b[0m     \u001b[1;32mreturn\u001b[0m \u001b[0mX\u001b[0m\u001b[1;33m,\u001b[0m \u001b[0my\u001b[0m\u001b[1;33m\u001b[0m\u001b[0m\n",
      "\u001b[1;32mc:\\users\\angus\\miniconda3\\envs\\keras-ml\\lib\\site-packages\\sklearn\\utils\\validation.py\u001b[0m in \u001b[0;36mcheck_consistent_length\u001b[1;34m(*arrays)\u001b[0m\n\u001b[0;32m    179\u001b[0m     \u001b[1;32mif\u001b[0m \u001b[0mlen\u001b[0m\u001b[1;33m(\u001b[0m\u001b[0muniques\u001b[0m\u001b[1;33m)\u001b[0m \u001b[1;33m>\u001b[0m \u001b[1;36m1\u001b[0m\u001b[1;33m:\u001b[0m\u001b[1;33m\u001b[0m\u001b[0m\n\u001b[0;32m    180\u001b[0m         raise ValueError(\"Found input variables with inconsistent numbers of\"\n\u001b[1;32m--> 181\u001b[1;33m                          \" samples: %r\" % [int(l) for l in lengths])\n\u001b[0m\u001b[0;32m    182\u001b[0m \u001b[1;33m\u001b[0m\u001b[0m\n\u001b[0;32m    183\u001b[0m \u001b[1;33m\u001b[0m\u001b[0m\n",
      "\u001b[1;31mValueError\u001b[0m: Found input variables with inconsistent numbers of samples: [1, 120]"
     ]
    }
   ],
   "source": [
    "linear_model.fit(X_train, Y_train)"
   ]
  },
  {
   "cell_type": "code",
   "execution_count": 323,
   "metadata": {},
   "outputs": [
    {
     "ename": "NotFittedError",
     "evalue": "This LinearRegression instance is not fitted yet. Call 'fit' with appropriate arguments before using this method.",
     "output_type": "error",
     "traceback": [
      "\u001b[1;31m---------------------------------------------------------------------------\u001b[0m",
      "\u001b[1;31mNotFittedError\u001b[0m                            Traceback (most recent call last)",
      "\u001b[1;32m<ipython-input-323-b41673f7fa00>\u001b[0m in \u001b[0;36m<module>\u001b[1;34m()\u001b[0m\n\u001b[1;32m----> 1\u001b[1;33m \u001b[0mlinear_model\u001b[0m\u001b[1;33m.\u001b[0m\u001b[0mscore\u001b[0m\u001b[1;33m(\u001b[0m\u001b[0mX_test\u001b[0m\u001b[1;33m,\u001b[0m \u001b[0mY_test\u001b[0m\u001b[1;33m)\u001b[0m\u001b[1;33m\u001b[0m\u001b[0m\n\u001b[0m",
      "\u001b[1;32mc:\\users\\angus\\miniconda3\\envs\\keras-ml\\lib\\site-packages\\sklearn\\base.py\u001b[0m in \u001b[0;36mscore\u001b[1;34m(self, X, y, sample_weight)\u001b[0m\n\u001b[0;32m    384\u001b[0m \u001b[1;33m\u001b[0m\u001b[0m\n\u001b[0;32m    385\u001b[0m         \u001b[1;32mfrom\u001b[0m \u001b[1;33m.\u001b[0m\u001b[0mmetrics\u001b[0m \u001b[1;32mimport\u001b[0m \u001b[0mr2_score\u001b[0m\u001b[1;33m\u001b[0m\u001b[0m\n\u001b[1;32m--> 386\u001b[1;33m         return r2_score(y, self.predict(X), sample_weight=sample_weight,\n\u001b[0m\u001b[0;32m    387\u001b[0m                         multioutput='variance_weighted')\n\u001b[0;32m    388\u001b[0m \u001b[1;33m\u001b[0m\u001b[0m\n",
      "\u001b[1;32mc:\\users\\angus\\miniconda3\\envs\\keras-ml\\lib\\site-packages\\sklearn\\linear_model\\base.py\u001b[0m in \u001b[0;36mpredict\u001b[1;34m(self, X)\u001b[0m\n\u001b[0;32m    266\u001b[0m             \u001b[0mReturns\u001b[0m \u001b[0mpredicted\u001b[0m \u001b[0mvalues\u001b[0m\u001b[1;33m.\u001b[0m\u001b[1;33m\u001b[0m\u001b[0m\n\u001b[0;32m    267\u001b[0m         \"\"\"\n\u001b[1;32m--> 268\u001b[1;33m         \u001b[1;32mreturn\u001b[0m \u001b[0mself\u001b[0m\u001b[1;33m.\u001b[0m\u001b[0m_decision_function\u001b[0m\u001b[1;33m(\u001b[0m\u001b[0mX\u001b[0m\u001b[1;33m)\u001b[0m\u001b[1;33m\u001b[0m\u001b[0m\n\u001b[0m\u001b[0;32m    269\u001b[0m \u001b[1;33m\u001b[0m\u001b[0m\n\u001b[0;32m    270\u001b[0m     \u001b[0m_preprocess_data\u001b[0m \u001b[1;33m=\u001b[0m \u001b[0mstaticmethod\u001b[0m\u001b[1;33m(\u001b[0m\u001b[0m_preprocess_data\u001b[0m\u001b[1;33m)\u001b[0m\u001b[1;33m\u001b[0m\u001b[0m\n",
      "\u001b[1;32mc:\\users\\angus\\miniconda3\\envs\\keras-ml\\lib\\site-packages\\sklearn\\linear_model\\base.py\u001b[0m in \u001b[0;36m_decision_function\u001b[1;34m(self, X)\u001b[0m\n\u001b[0;32m    247\u001b[0m \u001b[1;33m\u001b[0m\u001b[0m\n\u001b[0;32m    248\u001b[0m     \u001b[1;32mdef\u001b[0m \u001b[0m_decision_function\u001b[0m\u001b[1;33m(\u001b[0m\u001b[0mself\u001b[0m\u001b[1;33m,\u001b[0m \u001b[0mX\u001b[0m\u001b[1;33m)\u001b[0m\u001b[1;33m:\u001b[0m\u001b[1;33m\u001b[0m\u001b[0m\n\u001b[1;32m--> 249\u001b[1;33m         \u001b[0mcheck_is_fitted\u001b[0m\u001b[1;33m(\u001b[0m\u001b[0mself\u001b[0m\u001b[1;33m,\u001b[0m \u001b[1;34m\"coef_\"\u001b[0m\u001b[1;33m)\u001b[0m\u001b[1;33m\u001b[0m\u001b[0m\n\u001b[0m\u001b[0;32m    250\u001b[0m \u001b[1;33m\u001b[0m\u001b[0m\n\u001b[0;32m    251\u001b[0m         \u001b[0mX\u001b[0m \u001b[1;33m=\u001b[0m \u001b[0mcheck_array\u001b[0m\u001b[1;33m(\u001b[0m\u001b[0mX\u001b[0m\u001b[1;33m,\u001b[0m \u001b[0maccept_sparse\u001b[0m\u001b[1;33m=\u001b[0m\u001b[1;33m[\u001b[0m\u001b[1;34m'csr'\u001b[0m\u001b[1;33m,\u001b[0m \u001b[1;34m'csc'\u001b[0m\u001b[1;33m,\u001b[0m \u001b[1;34m'coo'\u001b[0m\u001b[1;33m]\u001b[0m\u001b[1;33m)\u001b[0m\u001b[1;33m\u001b[0m\u001b[0m\n",
      "\u001b[1;32mc:\\users\\angus\\miniconda3\\envs\\keras-ml\\lib\\site-packages\\sklearn\\utils\\validation.py\u001b[0m in \u001b[0;36mcheck_is_fitted\u001b[1;34m(estimator, attributes, msg, all_or_any)\u001b[0m\n\u001b[0;32m    688\u001b[0m     \u001b[1;32mif\u001b[0m \u001b[1;32mnot\u001b[0m \u001b[0mall_or_any\u001b[0m\u001b[1;33m(\u001b[0m\u001b[1;33m[\u001b[0m\u001b[0mhasattr\u001b[0m\u001b[1;33m(\u001b[0m\u001b[0mestimator\u001b[0m\u001b[1;33m,\u001b[0m \u001b[0mattr\u001b[0m\u001b[1;33m)\u001b[0m \u001b[1;32mfor\u001b[0m \u001b[0mattr\u001b[0m \u001b[1;32min\u001b[0m \u001b[0mattributes\u001b[0m\u001b[1;33m]\u001b[0m\u001b[1;33m)\u001b[0m\u001b[1;33m:\u001b[0m\u001b[1;33m\u001b[0m\u001b[0m\n\u001b[0;32m    689\u001b[0m         \u001b[1;31m# FIXME NotFittedError_ --> NotFittedError in 0.19\u001b[0m\u001b[1;33m\u001b[0m\u001b[1;33m\u001b[0m\u001b[0m\n\u001b[1;32m--> 690\u001b[1;33m         \u001b[1;32mraise\u001b[0m \u001b[0m_NotFittedError\u001b[0m\u001b[1;33m(\u001b[0m\u001b[0mmsg\u001b[0m \u001b[1;33m%\u001b[0m \u001b[1;33m{\u001b[0m\u001b[1;34m'name'\u001b[0m\u001b[1;33m:\u001b[0m \u001b[0mtype\u001b[0m\u001b[1;33m(\u001b[0m\u001b[0mestimator\u001b[0m\u001b[1;33m)\u001b[0m\u001b[1;33m.\u001b[0m\u001b[0m__name__\u001b[0m\u001b[1;33m}\u001b[0m\u001b[1;33m)\u001b[0m\u001b[1;33m\u001b[0m\u001b[0m\n\u001b[0m\u001b[0;32m    691\u001b[0m \u001b[1;33m\u001b[0m\u001b[0m\n\u001b[0;32m    692\u001b[0m \u001b[1;33m\u001b[0m\u001b[0m\n",
      "\u001b[1;31mNotFittedError\u001b[0m: This LinearRegression instance is not fitted yet. Call 'fit' with appropriate arguments before using this method."
     ]
    }
   ],
   "source": [
    "linear_model.score(X_test, Y_test)"
   ]
  },
  {
   "cell_type": "code",
   "execution_count": 324,
   "metadata": {},
   "outputs": [
    {
     "ename": "NotFittedError",
     "evalue": "This LinearRegression instance is not fitted yet. Call 'fit' with appropriate arguments before using this method.",
     "output_type": "error",
     "traceback": [
      "\u001b[1;31m---------------------------------------------------------------------------\u001b[0m",
      "\u001b[1;31mNotFittedError\u001b[0m                            Traceback (most recent call last)",
      "\u001b[1;32m<ipython-input-324-f561c40080c6>\u001b[0m in \u001b[0;36m<module>\u001b[1;34m()\u001b[0m\n\u001b[1;32m----> 1\u001b[1;33m \u001b[0mlinear_model\u001b[0m\u001b[1;33m.\u001b[0m\u001b[0mpredict\u001b[0m\u001b[1;33m(\u001b[0m\u001b[0mX_test\u001b[0m\u001b[1;33m)\u001b[0m\u001b[1;33m\u001b[0m\u001b[0m\n\u001b[0m",
      "\u001b[1;32mc:\\users\\angus\\miniconda3\\envs\\keras-ml\\lib\\site-packages\\sklearn\\linear_model\\base.py\u001b[0m in \u001b[0;36mpredict\u001b[1;34m(self, X)\u001b[0m\n\u001b[0;32m    266\u001b[0m             \u001b[0mReturns\u001b[0m \u001b[0mpredicted\u001b[0m \u001b[0mvalues\u001b[0m\u001b[1;33m.\u001b[0m\u001b[1;33m\u001b[0m\u001b[0m\n\u001b[0;32m    267\u001b[0m         \"\"\"\n\u001b[1;32m--> 268\u001b[1;33m         \u001b[1;32mreturn\u001b[0m \u001b[0mself\u001b[0m\u001b[1;33m.\u001b[0m\u001b[0m_decision_function\u001b[0m\u001b[1;33m(\u001b[0m\u001b[0mX\u001b[0m\u001b[1;33m)\u001b[0m\u001b[1;33m\u001b[0m\u001b[0m\n\u001b[0m\u001b[0;32m    269\u001b[0m \u001b[1;33m\u001b[0m\u001b[0m\n\u001b[0;32m    270\u001b[0m     \u001b[0m_preprocess_data\u001b[0m \u001b[1;33m=\u001b[0m \u001b[0mstaticmethod\u001b[0m\u001b[1;33m(\u001b[0m\u001b[0m_preprocess_data\u001b[0m\u001b[1;33m)\u001b[0m\u001b[1;33m\u001b[0m\u001b[0m\n",
      "\u001b[1;32mc:\\users\\angus\\miniconda3\\envs\\keras-ml\\lib\\site-packages\\sklearn\\linear_model\\base.py\u001b[0m in \u001b[0;36m_decision_function\u001b[1;34m(self, X)\u001b[0m\n\u001b[0;32m    247\u001b[0m \u001b[1;33m\u001b[0m\u001b[0m\n\u001b[0;32m    248\u001b[0m     \u001b[1;32mdef\u001b[0m \u001b[0m_decision_function\u001b[0m\u001b[1;33m(\u001b[0m\u001b[0mself\u001b[0m\u001b[1;33m,\u001b[0m \u001b[0mX\u001b[0m\u001b[1;33m)\u001b[0m\u001b[1;33m:\u001b[0m\u001b[1;33m\u001b[0m\u001b[0m\n\u001b[1;32m--> 249\u001b[1;33m         \u001b[0mcheck_is_fitted\u001b[0m\u001b[1;33m(\u001b[0m\u001b[0mself\u001b[0m\u001b[1;33m,\u001b[0m \u001b[1;34m\"coef_\"\u001b[0m\u001b[1;33m)\u001b[0m\u001b[1;33m\u001b[0m\u001b[0m\n\u001b[0m\u001b[0;32m    250\u001b[0m \u001b[1;33m\u001b[0m\u001b[0m\n\u001b[0;32m    251\u001b[0m         \u001b[0mX\u001b[0m \u001b[1;33m=\u001b[0m \u001b[0mcheck_array\u001b[0m\u001b[1;33m(\u001b[0m\u001b[0mX\u001b[0m\u001b[1;33m,\u001b[0m \u001b[0maccept_sparse\u001b[0m\u001b[1;33m=\u001b[0m\u001b[1;33m[\u001b[0m\u001b[1;34m'csr'\u001b[0m\u001b[1;33m,\u001b[0m \u001b[1;34m'csc'\u001b[0m\u001b[1;33m,\u001b[0m \u001b[1;34m'coo'\u001b[0m\u001b[1;33m]\u001b[0m\u001b[1;33m)\u001b[0m\u001b[1;33m\u001b[0m\u001b[0m\n",
      "\u001b[1;32mc:\\users\\angus\\miniconda3\\envs\\keras-ml\\lib\\site-packages\\sklearn\\utils\\validation.py\u001b[0m in \u001b[0;36mcheck_is_fitted\u001b[1;34m(estimator, attributes, msg, all_or_any)\u001b[0m\n\u001b[0;32m    688\u001b[0m     \u001b[1;32mif\u001b[0m \u001b[1;32mnot\u001b[0m \u001b[0mall_or_any\u001b[0m\u001b[1;33m(\u001b[0m\u001b[1;33m[\u001b[0m\u001b[0mhasattr\u001b[0m\u001b[1;33m(\u001b[0m\u001b[0mestimator\u001b[0m\u001b[1;33m,\u001b[0m \u001b[0mattr\u001b[0m\u001b[1;33m)\u001b[0m \u001b[1;32mfor\u001b[0m \u001b[0mattr\u001b[0m \u001b[1;32min\u001b[0m \u001b[0mattributes\u001b[0m\u001b[1;33m]\u001b[0m\u001b[1;33m)\u001b[0m\u001b[1;33m:\u001b[0m\u001b[1;33m\u001b[0m\u001b[0m\n\u001b[0;32m    689\u001b[0m         \u001b[1;31m# FIXME NotFittedError_ --> NotFittedError in 0.19\u001b[0m\u001b[1;33m\u001b[0m\u001b[1;33m\u001b[0m\u001b[0m\n\u001b[1;32m--> 690\u001b[1;33m         \u001b[1;32mraise\u001b[0m \u001b[0m_NotFittedError\u001b[0m\u001b[1;33m(\u001b[0m\u001b[0mmsg\u001b[0m \u001b[1;33m%\u001b[0m \u001b[1;33m{\u001b[0m\u001b[1;34m'name'\u001b[0m\u001b[1;33m:\u001b[0m \u001b[0mtype\u001b[0m\u001b[1;33m(\u001b[0m\u001b[0mestimator\u001b[0m\u001b[1;33m)\u001b[0m\u001b[1;33m.\u001b[0m\u001b[0m__name__\u001b[0m\u001b[1;33m}\u001b[0m\u001b[1;33m)\u001b[0m\u001b[1;33m\u001b[0m\u001b[0m\n\u001b[0m\u001b[0;32m    691\u001b[0m \u001b[1;33m\u001b[0m\u001b[0m\n\u001b[0;32m    692\u001b[0m \u001b[1;33m\u001b[0m\u001b[0m\n",
      "\u001b[1;31mNotFittedError\u001b[0m: This LinearRegression instance is not fitted yet. Call 'fit' with appropriate arguments before using this method."
     ]
    }
   ],
   "source": [
    "linear_model.predict(X_test)"
   ]
  },
  {
   "cell_type": "code",
   "execution_count": null,
   "metadata": {
    "collapsed": true
   },
   "outputs": [],
   "source": []
  },
  {
   "cell_type": "code",
   "execution_count": null,
   "metadata": {
    "collapsed": true
   },
   "outputs": [],
   "source": [
    "# create model\n",
    "model = Sequential()\n",
    "model.add(Dense(5, input_dim=X_train[1].size, activation='relu'))\n",
    "model.add(Dense(10, activation='relu'))\n",
    "#model.add(Dense(20, activation='relu'))\n",
    "model.add(Dense(1, activation='linear'))"
   ]
  },
  {
   "cell_type": "code",
   "execution_count": null,
   "metadata": {
    "collapsed": true
   },
   "outputs": [],
   "source": [
    "model.compile(loss='binary_crossentropy', optimizer='adam', metrics=['accuracy'])"
   ]
  },
  {
   "cell_type": "code",
   "execution_count": null,
   "metadata": {},
   "outputs": [],
   "source": [
    "model.fit(\n",
    "    X_train,\n",
    "    Y_train,\n",
    "    epochs=30,\n",
    "    batch_size=10\n",
    ")"
   ]
  },
  {
   "cell_type": "code",
   "execution_count": null,
   "metadata": {
    "scrolled": true
   },
   "outputs": [],
   "source": [
    "scores = model.evaluate(X_test, Y_test)"
   ]
  },
  {
   "cell_type": "code",
   "execution_count": null,
   "metadata": {},
   "outputs": [],
   "source": [
    "print(\"\\n%s: %.2f%%\" % (model.metrics_names[1], scores[1]*100))"
   ]
  },
  {
   "cell_type": "code",
   "execution_count": null,
   "metadata": {
    "collapsed": true
   },
   "outputs": [],
   "source": [
    "tester = [[22,23.64,966.52,1.33,70,195.4285714]]\n",
    "tester2 = [[7,20.6,968.16,0.07,90,682]]\n"
   ]
  },
  {
   "cell_type": "code",
   "execution_count": null,
   "metadata": {},
   "outputs": [],
   "source": [
    "tester2"
   ]
  },
  {
   "cell_type": "code",
   "execution_count": null,
   "metadata": {},
   "outputs": [],
   "source": [
    "tester2 = np.array(tester2)"
   ]
  },
  {
   "cell_type": "code",
   "execution_count": null,
   "metadata": {},
   "outputs": [],
   "source": [
    "model.predict(tester2)"
   ]
  },
  {
   "cell_type": "code",
   "execution_count": null,
   "metadata": {
    "collapsed": true
   },
   "outputs": [],
   "source": []
  },
  {
   "cell_type": "code",
   "execution_count": null,
   "metadata": {
    "collapsed": true
   },
   "outputs": [],
   "source": []
  },
  {
   "cell_type": "code",
   "execution_count": null,
   "metadata": {
    "collapsed": true
   },
   "outputs": [],
   "source": []
  }
 ],
 "metadata": {
  "kernelspec": {
   "display_name": "Python 3",
   "language": "python",
   "name": "python3"
  },
  "language_info": {
   "codemirror_mode": {
    "name": "ipython",
    "version": 3
   },
   "file_extension": ".py",
   "mimetype": "text/x-python",
   "name": "python",
   "nbconvert_exporter": "python",
   "pygments_lexer": "ipython3",
   "version": "3.5.3"
  }
 },
 "nbformat": 4,
 "nbformat_minor": 2
}
