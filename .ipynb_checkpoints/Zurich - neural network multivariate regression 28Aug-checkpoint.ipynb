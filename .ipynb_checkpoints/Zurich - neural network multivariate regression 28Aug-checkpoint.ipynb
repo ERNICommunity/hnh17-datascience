{
 "cells": [
  {
   "cell_type": "markdown",
   "metadata": {},
   "source": [
    "# Implementing a feed-forward neural network on the Zurich data"
   ]
  },
  {
   "cell_type": "markdown",
   "metadata": {},
   "source": [
    "### Part 1: data prep"
   ]
  },
  {
   "cell_type": "code",
   "execution_count": 1,
   "metadata": {
    "collapsed": true
   },
   "outputs": [],
   "source": [
    "import numpy as np\n",
    "import pandas as pd"
   ]
  },
  {
   "cell_type": "code",
   "execution_count": 2,
   "metadata": {
    "collapsed": true
   },
   "outputs": [],
   "source": [
    "seed = 7\n",
    "np.random.seed(seed)\n",
    "dataset = pd.read_csv(r'zurich.csv')\n",
    "dataset.dropna(inplace=True)"
   ]
  },
  {
   "cell_type": "code",
   "execution_count": 3,
   "metadata": {},
   "outputs": [
    {
     "data": {
      "text/html": [
       "<div>\n",
       "<style>\n",
       "    .dataframe thead tr:only-child th {\n",
       "        text-align: right;\n",
       "    }\n",
       "\n",
       "    .dataframe thead th {\n",
       "        text-align: left;\n",
       "    }\n",
       "\n",
       "    .dataframe tbody tr th {\n",
       "        vertical-align: top;\n",
       "    }\n",
       "</style>\n",
       "<table border=\"1\" class=\"dataframe\">\n",
       "  <thead>\n",
       "    <tr style=\"text-align: right;\">\n",
       "      <th></th>\n",
       "      <th>date</th>\n",
       "      <th>pm10</th>\n",
       "      <th>hour</th>\n",
       "      <th>T</th>\n",
       "      <th>P</th>\n",
       "      <th>wind</th>\n",
       "      <th>hum</th>\n",
       "      <th>traffic</th>\n",
       "    </tr>\n",
       "  </thead>\n",
       "  <tbody>\n",
       "    <tr>\n",
       "      <th>0</th>\n",
       "      <td>19/08/2017 16:00</td>\n",
       "      <td>5.07</td>\n",
       "      <td>16</td>\n",
       "      <td>22.45</td>\n",
       "      <td>969.32</td>\n",
       "      <td>2.60</td>\n",
       "      <td>52</td>\n",
       "      <td>431.428571</td>\n",
       "    </tr>\n",
       "    <tr>\n",
       "      <th>1</th>\n",
       "      <td>19/08/2017 17:00</td>\n",
       "      <td>5.40</td>\n",
       "      <td>17</td>\n",
       "      <td>22.28</td>\n",
       "      <td>969.42</td>\n",
       "      <td>2.99</td>\n",
       "      <td>50</td>\n",
       "      <td>425.714286</td>\n",
       "    </tr>\n",
       "    <tr>\n",
       "      <th>2</th>\n",
       "      <td>19/08/2017 18:00</td>\n",
       "      <td>5.92</td>\n",
       "      <td>18</td>\n",
       "      <td>21.70</td>\n",
       "      <td>969.85</td>\n",
       "      <td>2.59</td>\n",
       "      <td>48</td>\n",
       "      <td>364.000000</td>\n",
       "    </tr>\n",
       "    <tr>\n",
       "      <th>3</th>\n",
       "      <td>19/08/2017 19:00</td>\n",
       "      <td>6.12</td>\n",
       "      <td>19</td>\n",
       "      <td>20.69</td>\n",
       "      <td>970.32</td>\n",
       "      <td>1.97</td>\n",
       "      <td>48</td>\n",
       "      <td>248.285714</td>\n",
       "    </tr>\n",
       "    <tr>\n",
       "      <th>4</th>\n",
       "      <td>19/08/2017 20:00</td>\n",
       "      <td>6.56</td>\n",
       "      <td>20</td>\n",
       "      <td>19.65</td>\n",
       "      <td>971.09</td>\n",
       "      <td>1.60</td>\n",
       "      <td>48</td>\n",
       "      <td>174.285714</td>\n",
       "    </tr>\n",
       "  </tbody>\n",
       "</table>\n",
       "</div>"
      ],
      "text/plain": [
       "               date  pm10  hour      T       P  wind  hum     traffic\n",
       "0  19/08/2017 16:00  5.07    16  22.45  969.32  2.60   52  431.428571\n",
       "1  19/08/2017 17:00  5.40    17  22.28  969.42  2.99   50  425.714286\n",
       "2  19/08/2017 18:00  5.92    18  21.70  969.85  2.59   48  364.000000\n",
       "3  19/08/2017 19:00  6.12    19  20.69  970.32  1.97   48  248.285714\n",
       "4  19/08/2017 20:00  6.56    20  19.65  971.09  1.60   48  174.285714"
      ]
     },
     "execution_count": 3,
     "metadata": {},
     "output_type": "execute_result"
    }
   ],
   "source": [
    "dataset.head()"
   ]
  },
  {
   "cell_type": "code",
   "execution_count": 4,
   "metadata": {
    "collapsed": true
   },
   "outputs": [],
   "source": [
    "dataset.dropna(inplace=True)"
   ]
  },
  {
   "cell_type": "code",
   "execution_count": 5,
   "metadata": {},
   "outputs": [
    {
     "data": {
      "text/html": [
       "<div>\n",
       "<style>\n",
       "    .dataframe thead tr:only-child th {\n",
       "        text-align: right;\n",
       "    }\n",
       "\n",
       "    .dataframe thead th {\n",
       "        text-align: left;\n",
       "    }\n",
       "\n",
       "    .dataframe tbody tr th {\n",
       "        vertical-align: top;\n",
       "    }\n",
       "</style>\n",
       "<table border=\"1\" class=\"dataframe\">\n",
       "  <thead>\n",
       "    <tr style=\"text-align: right;\">\n",
       "      <th></th>\n",
       "      <th>date</th>\n",
       "      <th>pm10</th>\n",
       "      <th>hour</th>\n",
       "      <th>T</th>\n",
       "      <th>P</th>\n",
       "      <th>wind</th>\n",
       "      <th>hum</th>\n",
       "      <th>traffic</th>\n",
       "    </tr>\n",
       "  </thead>\n",
       "  <tbody>\n",
       "    <tr>\n",
       "      <th>0</th>\n",
       "      <td>19/08/2017 16:00</td>\n",
       "      <td>5.07</td>\n",
       "      <td>16</td>\n",
       "      <td>22.45</td>\n",
       "      <td>969.32</td>\n",
       "      <td>2.60</td>\n",
       "      <td>52</td>\n",
       "      <td>431.428571</td>\n",
       "    </tr>\n",
       "    <tr>\n",
       "      <th>1</th>\n",
       "      <td>19/08/2017 17:00</td>\n",
       "      <td>5.40</td>\n",
       "      <td>17</td>\n",
       "      <td>22.28</td>\n",
       "      <td>969.42</td>\n",
       "      <td>2.99</td>\n",
       "      <td>50</td>\n",
       "      <td>425.714286</td>\n",
       "    </tr>\n",
       "    <tr>\n",
       "      <th>2</th>\n",
       "      <td>19/08/2017 18:00</td>\n",
       "      <td>5.92</td>\n",
       "      <td>18</td>\n",
       "      <td>21.70</td>\n",
       "      <td>969.85</td>\n",
       "      <td>2.59</td>\n",
       "      <td>48</td>\n",
       "      <td>364.000000</td>\n",
       "    </tr>\n",
       "    <tr>\n",
       "      <th>3</th>\n",
       "      <td>19/08/2017 19:00</td>\n",
       "      <td>6.12</td>\n",
       "      <td>19</td>\n",
       "      <td>20.69</td>\n",
       "      <td>970.32</td>\n",
       "      <td>1.97</td>\n",
       "      <td>48</td>\n",
       "      <td>248.285714</td>\n",
       "    </tr>\n",
       "    <tr>\n",
       "      <th>4</th>\n",
       "      <td>19/08/2017 20:00</td>\n",
       "      <td>6.56</td>\n",
       "      <td>20</td>\n",
       "      <td>19.65</td>\n",
       "      <td>971.09</td>\n",
       "      <td>1.60</td>\n",
       "      <td>48</td>\n",
       "      <td>174.285714</td>\n",
       "    </tr>\n",
       "  </tbody>\n",
       "</table>\n",
       "</div>"
      ],
      "text/plain": [
       "               date  pm10  hour      T       P  wind  hum     traffic\n",
       "0  19/08/2017 16:00  5.07    16  22.45  969.32  2.60   52  431.428571\n",
       "1  19/08/2017 17:00  5.40    17  22.28  969.42  2.99   50  425.714286\n",
       "2  19/08/2017 18:00  5.92    18  21.70  969.85  2.59   48  364.000000\n",
       "3  19/08/2017 19:00  6.12    19  20.69  970.32  1.97   48  248.285714\n",
       "4  19/08/2017 20:00  6.56    20  19.65  971.09  1.60   48  174.285714"
      ]
     },
     "execution_count": 5,
     "metadata": {},
     "output_type": "execute_result"
    }
   ],
   "source": [
    "dataset.head()"
   ]
  },
  {
   "cell_type": "code",
   "execution_count": 6,
   "metadata": {
    "collapsed": true
   },
   "outputs": [],
   "source": [
    "data = dataset.values"
   ]
  },
  {
   "cell_type": "code",
   "execution_count": 7,
   "metadata": {},
   "outputs": [
    {
     "data": {
      "text/plain": [
       "array([['19/08/2017 16:00', 5.07, 16, ..., 2.6, 52, 431.42857139999995],\n",
       "       ['19/08/2017 17:00', 5.4, 17, ..., 2.99, 50, 425.7142857],\n",
       "       ['19/08/2017 18:00', 5.92, 18, ..., 2.59, 48, 364.0],\n",
       "       ..., \n",
       "       ['25/08/2017 21:00', 16.35, 21, ..., 1.34, 67, 204.8571429],\n",
       "       ['25/08/2017 22:00', 19.08, 22, ..., 0.97, 67, 195.4285714],\n",
       "       ['25/08/2017 23:00', 15.31, 23, ..., 1.46, 77, 146.8571429]], dtype=object)"
      ]
     },
     "execution_count": 7,
     "metadata": {},
     "output_type": "execute_result"
    }
   ],
   "source": [
    "data"
   ]
  },
  {
   "cell_type": "code",
   "execution_count": 8,
   "metadata": {
    "collapsed": true
   },
   "outputs": [],
   "source": [
    "### split the data into training and test data"
   ]
  },
  {
   "cell_type": "code",
   "execution_count": 9,
   "metadata": {
    "collapsed": true
   },
   "outputs": [],
   "source": [
    "from sklearn.model_selection import train_test_split"
   ]
  },
  {
   "cell_type": "code",
   "execution_count": 26,
   "metadata": {
    "collapsed": true
   },
   "outputs": [],
   "source": [
    "size = data[0].size\n",
    "X = data[:,3:]  # features\n",
    "y = data[:,1]  # label PM10"
   ]
  },
  {
   "cell_type": "code",
   "execution_count": 27,
   "metadata": {},
   "outputs": [
    {
     "name": "stdout",
     "output_type": "stream",
     "text": [
      "Features: [[22.45 969.32 2.6 52 431.42857139999995]\n",
      " [22.28 969.42 2.99 50 425.7142857]\n",
      " [21.7 969.85 2.59 48 364.0]]\n",
      "Labels: [5.07 5.4 5.92]\n"
     ]
    }
   ],
   "source": [
    "print(\"Features: {}\".format(X[:3]))  # just checking the data split worked ok\n",
    "print(\"Labels: {}\".format(y[:3]))"
   ]
  },
  {
   "cell_type": "code",
   "execution_count": 28,
   "metadata": {
    "collapsed": true
   },
   "outputs": [],
   "source": [
    "X_train, X_test, y_train, y_test = train_test_split(X, y, test_size=0.25, random_state=42)"
   ]
  },
  {
   "cell_type": "code",
   "execution_count": 29,
   "metadata": {},
   "outputs": [],
   "source": [
    "in_dim = X_train.shape[1]"
   ]
  },
  {
   "cell_type": "code",
   "execution_count": 30,
   "metadata": {},
   "outputs": [
    {
     "name": "stdout",
     "output_type": "stream",
     "text": [
      "5\n"
     ]
    }
   ],
   "source": [
    "print(in_dim)"
   ]
  },
  {
   "cell_type": "markdown",
   "metadata": {},
   "source": [
    "### Part 2 The neural network\n",
    "#### Define the neural network model"
   ]
  },
  {
   "cell_type": "code",
   "execution_count": 31,
   "metadata": {},
   "outputs": [],
   "source": [
    "from keras.models import Sequential\n",
    "from keras.layers import Dense\n",
    "from keras.wrappers.scikit_learn import KerasRegressor\n",
    "from sklearn.preprocessing import StandardScaler"
   ]
  },
  {
   "cell_type": "code",
   "execution_count": 41,
   "metadata": {
    "collapsed": true
   },
   "outputs": [],
   "source": [
    "##define base model\n",
    "def base_model():\n",
    "     model = Sequential()\n",
    "     model.add(Dense(14, kernel_initializer='normal', input_dim=in_dim, activation='relu'))\n",
    "     model.add(Dense(7, kernel_initializer='normal', activation='relu'))\n",
    "     model.add(Dense(1))\n",
    "     model.compile(loss='mean_squared_error', optimizer = 'adam')\n",
    "     return model"
   ]
  },
  {
   "cell_type": "code",
   "execution_count": 42,
   "metadata": {
    "collapsed": true
   },
   "outputs": [],
   "source": [
    "# build a KerasRegressor"
   ]
  },
  {
   "cell_type": "code",
   "execution_count": 43,
   "metadata": {},
   "outputs": [],
   "source": [
    "regressor =  KerasRegressor(build_fn=base_model, epochs=100, batch_size=5, verbose=1)"
   ]
  },
  {
   "cell_type": "code",
   "execution_count": 44,
   "metadata": {},
   "outputs": [
    {
     "name": "stdout",
     "output_type": "stream",
     "text": [
      "Epoch 1/100\n",
      "113/113 [==============================] - 0s - loss: 248.9030     \n",
      "Epoch 2/100\n",
      "113/113 [==============================] - 0s - loss: 88.9630      \n",
      "Epoch 3/100\n",
      "113/113 [==============================] - 0s - loss: 36.7330      \n",
      "Epoch 4/100\n",
      "113/113 [==============================] - 0s - loss: 31.1685     \n",
      "Epoch 5/100\n",
      "113/113 [==============================] - 0s - loss: 30.8049     \n",
      "Epoch 6/100\n",
      "113/113 [==============================] - 0s - loss: 30.4972     \n",
      "Epoch 7/100\n",
      "113/113 [==============================] - 0s - loss: 29.6676    \n",
      "Epoch 8/100\n",
      "113/113 [==============================] - 0s - loss: 29.6932     \n",
      "Epoch 9/100\n",
      "113/113 [==============================] - 0s - loss: 29.1916    \n",
      "Epoch 10/100\n",
      "113/113 [==============================] - 0s - loss: 29.5809    \n",
      "Epoch 11/100\n",
      "113/113 [==============================] - 0s - loss: 29.7287    \n",
      "Epoch 12/100\n",
      "113/113 [==============================] - 0s - loss: 29.0445     \n",
      "Epoch 13/100\n",
      "113/113 [==============================] - 0s - loss: 28.8698    \n",
      "Epoch 14/100\n",
      "113/113 [==============================] - 0s - loss: 28.8478    \n",
      "Epoch 15/100\n",
      "113/113 [==============================] - 0s - loss: 28.2690     \n",
      "Epoch 16/100\n",
      "113/113 [==============================] - 0s - loss: 29.3804     \n",
      "Epoch 17/100\n",
      "113/113 [==============================] - 0s - loss: 28.1077     \n",
      "Epoch 18/100\n",
      "113/113 [==============================] - 0s - loss: 29.2761     \n",
      "Epoch 19/100\n",
      "113/113 [==============================] - 0s - loss: 28.4795     \n",
      "Epoch 20/100\n",
      "113/113 [==============================] - 0s - loss: 28.6660     \n",
      "Epoch 21/100\n",
      "113/113 [==============================] - 0s - loss: 28.8511     \n",
      "Epoch 22/100\n",
      "113/113 [==============================] - 0s - loss: 28.5029     \n",
      "Epoch 23/100\n",
      "113/113 [==============================] - 0s - loss: 28.9106     \n",
      "Epoch 24/100\n",
      "113/113 [==============================] - 0s - loss: 28.3312     \n",
      "Epoch 25/100\n",
      "113/113 [==============================] - 0s - loss: 27.4270     \n",
      "Epoch 26/100\n",
      "113/113 [==============================] - 0s - loss: 27.5466     \n",
      "Epoch 27/100\n",
      "113/113 [==============================] - 0s - loss: 28.1318    \n",
      "Epoch 28/100\n",
      "113/113 [==============================] - 0s - loss: 28.5539     \n",
      "Epoch 29/100\n",
      "113/113 [==============================] - 0s - loss: 28.6129    \n",
      "Epoch 30/100\n",
      "113/113 [==============================] - 0s - loss: 28.4653     \n",
      "Epoch 31/100\n",
      "113/113 [==============================] - 0s - loss: 27.5530     \n",
      "Epoch 32/100\n",
      "113/113 [==============================] - 0s - loss: 28.0911    \n",
      "Epoch 33/100\n",
      "113/113 [==============================] - 0s - loss: 27.8796     \n",
      "Epoch 34/100\n",
      "113/113 [==============================] - 0s - loss: 27.1529     \n",
      "Epoch 35/100\n",
      "113/113 [==============================] - 0s - loss: 27.4272     \n",
      "Epoch 36/100\n",
      "113/113 [==============================] - 0s - loss: 27.1162    \n",
      "Epoch 37/100\n",
      "113/113 [==============================] - 0s - loss: 28.5559     \n",
      "Epoch 38/100\n",
      "113/113 [==============================] - 0s - loss: 27.2628     \n",
      "Epoch 39/100\n",
      "113/113 [==============================] - 0s - loss: 28.5959     \n",
      "Epoch 40/100\n",
      "113/113 [==============================] - 0s - loss: 27.3304     \n",
      "Epoch 41/100\n",
      "113/113 [==============================] - 0s - loss: 27.3378    \n",
      "Epoch 42/100\n",
      "113/113 [==============================] - 0s - loss: 26.8616     \n",
      "Epoch 43/100\n",
      "113/113 [==============================] - 0s - loss: 27.4889     \n",
      "Epoch 44/100\n",
      "113/113 [==============================] - 0s - loss: 27.3263     \n",
      "Epoch 45/100\n",
      "113/113 [==============================] - 0s - loss: 27.1402     \n",
      "Epoch 46/100\n",
      "113/113 [==============================] - 0s - loss: 26.5832     \n",
      "Epoch 47/100\n",
      "113/113 [==============================] - 0s - loss: 27.8527     \n",
      "Epoch 48/100\n",
      "113/113 [==============================] - 0s - loss: 26.8363     \n",
      "Epoch 49/100\n",
      "113/113 [==============================] - 0s - loss: 26.5268    \n",
      "Epoch 50/100\n",
      "113/113 [==============================] - 0s - loss: 26.4765     \n",
      "Epoch 51/100\n",
      "113/113 [==============================] - 0s - loss: 26.9011     \n",
      "Epoch 52/100\n",
      "113/113 [==============================] - 0s - loss: 26.3449     \n",
      "Epoch 53/100\n",
      "113/113 [==============================] - 0s - loss: 26.5163     \n",
      "Epoch 54/100\n",
      "113/113 [==============================] - 0s - loss: 27.1343     \n",
      "Epoch 55/100\n",
      "113/113 [==============================] - 0s - loss: 26.4051     \n",
      "Epoch 56/100\n",
      "113/113 [==============================] - 0s - loss: 25.9186     \n",
      "Epoch 57/100\n",
      "113/113 [==============================] - 0s - loss: 27.1761     \n",
      "Epoch 58/100\n",
      "113/113 [==============================] - 0s - loss: 26.0541     \n",
      "Epoch 59/100\n",
      "113/113 [==============================] - 0s - loss: 26.0590     \n",
      "Epoch 60/100\n",
      "113/113 [==============================] - 0s - loss: 25.5632     \n",
      "Epoch 61/100\n",
      "113/113 [==============================] - 0s - loss: 27.7173     \n",
      "Epoch 62/100\n",
      "113/113 [==============================] - 0s - loss: 28.2628     \n",
      "Epoch 63/100\n",
      "113/113 [==============================] - 0s - loss: 26.0404     \n",
      "Epoch 64/100\n",
      "113/113 [==============================] - 0s - loss: 26.3340     \n",
      "Epoch 65/100\n",
      "113/113 [==============================] - 0s - loss: 26.0715     \n",
      "Epoch 66/100\n",
      "113/113 [==============================] - 0s - loss: 26.5109     \n",
      "Epoch 67/100\n",
      "113/113 [==============================] - 0s - loss: 26.2455    \n",
      "Epoch 68/100\n",
      "113/113 [==============================] - 0s - loss: 25.3660     \n",
      "Epoch 69/100\n",
      "113/113 [==============================] - 0s - loss: 25.8287     \n",
      "Epoch 70/100\n",
      "113/113 [==============================] - ETA: 0s - loss: 24.78 - 0s - loss: 25.7454     \n",
      "Epoch 71/100\n",
      "113/113 [==============================] - 0s - loss: 25.6382    \n",
      "Epoch 72/100\n",
      "113/113 [==============================] - 0s - loss: 25.4711    \n",
      "Epoch 73/100\n",
      "113/113 [==============================] - 0s - loss: 25.2989     \n",
      "Epoch 74/100\n",
      "113/113 [==============================] - 0s - loss: 25.4101     \n",
      "Epoch 75/100\n",
      "113/113 [==============================] - 0s - loss: 24.9576     \n",
      "Epoch 76/100\n",
      "113/113 [==============================] - 0s - loss: 25.5399     \n",
      "Epoch 77/100\n",
      "113/113 [==============================] - 0s - loss: 26.2649     \n",
      "Epoch 78/100\n",
      "113/113 [==============================] - 0s - loss: 25.3595     \n",
      "Epoch 79/100\n",
      "113/113 [==============================] - 0s - loss: 24.8386     \n",
      "Epoch 80/100\n",
      "113/113 [==============================] - 0s - loss: 26.1297     \n",
      "Epoch 81/100\n",
      "113/113 [==============================] - 0s - loss: 25.2229     \n",
      "Epoch 82/100\n",
      "113/113 [==============================] - 0s - loss: 24.8935     \n",
      "Epoch 83/100\n",
      "113/113 [==============================] - 0s - loss: 25.3732    \n",
      "Epoch 84/100\n",
      "113/113 [==============================] - 0s - loss: 24.5240     \n",
      "Epoch 85/100\n",
      "113/113 [==============================] - 0s - loss: 24.4417    \n",
      "Epoch 86/100\n",
      "113/113 [==============================] - 0s - loss: 25.0169    \n",
      "Epoch 87/100\n",
      "113/113 [==============================] - 0s - loss: 24.4245    \n",
      "Epoch 88/100\n",
      "113/113 [==============================] - 0s - loss: 24.4898     \n",
      "Epoch 89/100\n",
      "113/113 [==============================] - 0s - loss: 24.3110     \n",
      "Epoch 90/100\n",
      "113/113 [==============================] - 0s - loss: 24.3071     \n",
      "Epoch 91/100\n",
      "113/113 [==============================] - 0s - loss: 26.1706     \n",
      "Epoch 92/100\n",
      "113/113 [==============================] - 0s - loss: 24.1926     \n",
      "Epoch 93/100\n",
      "113/113 [==============================] - 0s - loss: 24.5923     \n",
      "Epoch 94/100\n",
      "113/113 [==============================] - 0s - loss: 24.2079     \n",
      "Epoch 95/100\n",
      "113/113 [==============================] - 0s - loss: 24.6551    \n",
      "Epoch 96/100\n",
      "113/113 [==============================] - 0s - loss: 26.7774     \n",
      "Epoch 97/100\n",
      "113/113 [==============================] - 0s - loss: 24.7273    \n",
      "Epoch 98/100\n",
      "113/113 [==============================] - 0s - loss: 24.0055     \n",
      "Epoch 99/100\n",
      "113/113 [==============================] - 0s - loss: 23.4684    \n",
      "Epoch 100/100\n",
      "113/113 [==============================] - 0s - loss: 25.0721    \n"
     ]
    },
    {
     "data": {
      "text/plain": [
       "<keras.callbacks.History at 0x16ed672e908>"
      ]
     },
     "execution_count": 44,
     "metadata": {},
     "output_type": "execute_result"
    }
   ],
   "source": [
    "regressor.fit(X_train, y_train)"
   ]
  },
  {
   "cell_type": "code",
   "execution_count": 45,
   "metadata": {},
   "outputs": [
    {
     "name": "stdout",
     "output_type": "stream",
     "text": [
      " 5/38 [==>...........................] - ETA: 0s\n",
      "Mean loss on test data: 22.817241380089207\n"
     ]
    }
   ],
   "source": [
    "score = regressor.score(X_test, y_test)\n",
    "print(\"\\nMean loss on test data: {}\".format(score))"
   ]
  },
  {
   "cell_type": "code",
   "execution_count": 46,
   "metadata": {},
   "outputs": [
    {
     "name": "stdout",
     "output_type": "stream",
     "text": [
      "\r",
      " 5/38 [==>...........................] - ETA: 0s"
     ]
    }
   ],
   "source": [
    "prediction = regressor.predict(X_test)"
   ]
  },
  {
   "cell_type": "code",
   "execution_count": 47,
   "metadata": {
    "collapsed": true
   },
   "outputs": [],
   "source": [
    "import matplotlib.pyplot as plt"
   ]
  },
  {
   "cell_type": "code",
   "execution_count": 48,
   "metadata": {
    "collapsed": true
   },
   "outputs": [],
   "source": [
    "# plotting the predictions against the real values"
   ]
  },
  {
   "cell_type": "code",
   "execution_count": 49,
   "metadata": {},
   "outputs": [
    {
     "data": {
      "image/png": "[encoded data removed]",
      "text/plain": [
       "<matplotlib.figure.Figure at 0x16ed7866f98>"
      ]
     },
     "metadata": {},
     "output_type": "display_data"
    }
   ],
   "source": [
    "plt.plot(prediction, label='prediction')\n",
    "plt.plot(y_test, label='actual')\n",
    "plt.xlabel('hour')\n",
    "plt.ylabel('PM10')\n",
    "plt.legend(loc='upper left', shadow=True)\n",
    "plt.show()"
   ]
  },
  {
   "cell_type": "code",
   "execution_count": null,
   "metadata": {
    "collapsed": true
   },
   "outputs": [],
   "source": []
  }
 ],
 "metadata": {
  "kernelspec": {
   "display_name": "Python 3",
   "language": "python",
   "name": "python3"
  },
  "language_info": {
   "codemirror_mode": {
    "name": "ipython",
    "version": 3
   },
   "file_extension": ".py",
   "mimetype": "text/x-python",
   "name": "python",
   "nbconvert_exporter": "python",
   "pygments_lexer": "ipython3",
   "version": "3.5.3"
  }
 },
 "nbformat": 4,
 "nbformat_minor": 2
}
