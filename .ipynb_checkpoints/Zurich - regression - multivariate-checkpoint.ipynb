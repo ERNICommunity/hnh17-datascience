{
 "cells": [
  {
   "cell_type": "code",
   "execution_count": 72,
   "metadata": {},
   "outputs": [],
   "source": [
    "import numpy as np\n",
    "import pandas as pd"
   ]
  },
  {
   "cell_type": "code",
   "execution_count": 73,
   "metadata": {
    "collapsed": true
   },
   "outputs": [],
   "source": [
    "seed = 7\n",
    "np.random.seed(seed)\n",
    "dataset = pd.read_csv(r'zurich.csv')\n",
    "dataset.dropna(inplace=True)"
   ]
  },
  {
   "cell_type": "code",
   "execution_count": 74,
   "metadata": {},
   "outputs": [
    {
     "data": {
      "text/html": [
       "<div>\n",
       "<style>\n",
       "    .dataframe thead tr:only-child th {\n",
       "        text-align: right;\n",
       "    }\n",
       "\n",
       "    .dataframe thead th {\n",
       "        text-align: left;\n",
       "    }\n",
       "\n",
       "    .dataframe tbody tr th {\n",
       "        vertical-align: top;\n",
       "    }\n",
       "</style>\n",
       "<table border=\"1\" class=\"dataframe\">\n",
       "  <thead>\n",
       "    <tr style=\"text-align: right;\">\n",
       "      <th></th>\n",
       "      <th>date</th>\n",
       "      <th>pm10</th>\n",
       "      <th>hour</th>\n",
       "      <th>T</th>\n",
       "      <th>P</th>\n",
       "      <th>wind</th>\n",
       "      <th>hum</th>\n",
       "      <th>traffic</th>\n",
       "    </tr>\n",
       "  </thead>\n",
       "  <tbody>\n",
       "    <tr>\n",
       "      <th>0</th>\n",
       "      <td>19/08/2017 16:00</td>\n",
       "      <td>5.07</td>\n",
       "      <td>16</td>\n",
       "      <td>22.45</td>\n",
       "      <td>969.32</td>\n",
       "      <td>2.60</td>\n",
       "      <td>52</td>\n",
       "      <td>431.428571</td>\n",
       "    </tr>\n",
       "    <tr>\n",
       "      <th>1</th>\n",
       "      <td>19/08/2017 17:00</td>\n",
       "      <td>5.40</td>\n",
       "      <td>17</td>\n",
       "      <td>22.28</td>\n",
       "      <td>969.42</td>\n",
       "      <td>2.99</td>\n",
       "      <td>50</td>\n",
       "      <td>425.714286</td>\n",
       "    </tr>\n",
       "    <tr>\n",
       "      <th>2</th>\n",
       "      <td>19/08/2017 18:00</td>\n",
       "      <td>5.92</td>\n",
       "      <td>18</td>\n",
       "      <td>21.70</td>\n",
       "      <td>969.85</td>\n",
       "      <td>2.59</td>\n",
       "      <td>48</td>\n",
       "      <td>364.000000</td>\n",
       "    </tr>\n",
       "    <tr>\n",
       "      <th>3</th>\n",
       "      <td>19/08/2017 19:00</td>\n",
       "      <td>6.12</td>\n",
       "      <td>19</td>\n",
       "      <td>20.69</td>\n",
       "      <td>970.32</td>\n",
       "      <td>1.97</td>\n",
       "      <td>48</td>\n",
       "      <td>248.285714</td>\n",
       "    </tr>\n",
       "    <tr>\n",
       "      <th>4</th>\n",
       "      <td>19/08/2017 20:00</td>\n",
       "      <td>6.56</td>\n",
       "      <td>20</td>\n",
       "      <td>19.65</td>\n",
       "      <td>971.09</td>\n",
       "      <td>1.60</td>\n",
       "      <td>48</td>\n",
       "      <td>174.285714</td>\n",
       "    </tr>\n",
       "  </tbody>\n",
       "</table>\n",
       "</div>"
      ],
      "text/plain": [
       "               date  pm10  hour      T       P  wind  hum     traffic\n",
       "0  19/08/2017 16:00  5.07    16  22.45  969.32  2.60   52  431.428571\n",
       "1  19/08/2017 17:00  5.40    17  22.28  969.42  2.99   50  425.714286\n",
       "2  19/08/2017 18:00  5.92    18  21.70  969.85  2.59   48  364.000000\n",
       "3  19/08/2017 19:00  6.12    19  20.69  970.32  1.97   48  248.285714\n",
       "4  19/08/2017 20:00  6.56    20  19.65  971.09  1.60   48  174.285714"
      ]
     },
     "execution_count": 74,
     "metadata": {},
     "output_type": "execute_result"
    }
   ],
   "source": [
    "dataset.head()"
   ]
  },
  {
   "cell_type": "code",
   "execution_count": 75,
   "metadata": {
    "collapsed": true
   },
   "outputs": [],
   "source": [
    "# dataset['previousPM2'] = dataset['pm2.5'].shift(2)"
   ]
  },
  {
   "cell_type": "code",
   "execution_count": 76,
   "metadata": {
    "collapsed": true
   },
   "outputs": [],
   "source": [
    "# dataset['previousPM3'] = dataset['pm2.5'].shift(3)"
   ]
  },
  {
   "cell_type": "code",
   "execution_count": 77,
   "metadata": {
    "collapsed": true
   },
   "outputs": [],
   "source": [
    "# dataset['previousPM4'] = dataset['pm2.5'].shift(4)"
   ]
  },
  {
   "cell_type": "code",
   "execution_count": 78,
   "metadata": {
    "collapsed": true
   },
   "outputs": [],
   "source": [
    "# dataset['previousPM5'] = dataset['pm2.5'].shift(5)"
   ]
  },
  {
   "cell_type": "code",
   "execution_count": 79,
   "metadata": {
    "collapsed": true
   },
   "outputs": [],
   "source": [
    "dataset.dropna(inplace=True)"
   ]
  },
  {
   "cell_type": "code",
   "execution_count": 80,
   "metadata": {},
   "outputs": [
    {
     "data": {
      "text/html": [
       "<div>\n",
       "<style>\n",
       "    .dataframe thead tr:only-child th {\n",
       "        text-align: right;\n",
       "    }\n",
       "\n",
       "    .dataframe thead th {\n",
       "        text-align: left;\n",
       "    }\n",
       "\n",
       "    .dataframe tbody tr th {\n",
       "        vertical-align: top;\n",
       "    }\n",
       "</style>\n",
       "<table border=\"1\" class=\"dataframe\">\n",
       "  <thead>\n",
       "    <tr style=\"text-align: right;\">\n",
       "      <th></th>\n",
       "      <th>date</th>\n",
       "      <th>pm10</th>\n",
       "      <th>hour</th>\n",
       "      <th>T</th>\n",
       "      <th>P</th>\n",
       "      <th>wind</th>\n",
       "      <th>hum</th>\n",
       "      <th>traffic</th>\n",
       "    </tr>\n",
       "  </thead>\n",
       "  <tbody>\n",
       "    <tr>\n",
       "      <th>0</th>\n",
       "      <td>19/08/2017 16:00</td>\n",
       "      <td>5.07</td>\n",
       "      <td>16</td>\n",
       "      <td>22.45</td>\n",
       "      <td>969.32</td>\n",
       "      <td>2.60</td>\n",
       "      <td>52</td>\n",
       "      <td>431.428571</td>\n",
       "    </tr>\n",
       "    <tr>\n",
       "      <th>1</th>\n",
       "      <td>19/08/2017 17:00</td>\n",
       "      <td>5.40</td>\n",
       "      <td>17</td>\n",
       "      <td>22.28</td>\n",
       "      <td>969.42</td>\n",
       "      <td>2.99</td>\n",
       "      <td>50</td>\n",
       "      <td>425.714286</td>\n",
       "    </tr>\n",
       "    <tr>\n",
       "      <th>2</th>\n",
       "      <td>19/08/2017 18:00</td>\n",
       "      <td>5.92</td>\n",
       "      <td>18</td>\n",
       "      <td>21.70</td>\n",
       "      <td>969.85</td>\n",
       "      <td>2.59</td>\n",
       "      <td>48</td>\n",
       "      <td>364.000000</td>\n",
       "    </tr>\n",
       "    <tr>\n",
       "      <th>3</th>\n",
       "      <td>19/08/2017 19:00</td>\n",
       "      <td>6.12</td>\n",
       "      <td>19</td>\n",
       "      <td>20.69</td>\n",
       "      <td>970.32</td>\n",
       "      <td>1.97</td>\n",
       "      <td>48</td>\n",
       "      <td>248.285714</td>\n",
       "    </tr>\n",
       "    <tr>\n",
       "      <th>4</th>\n",
       "      <td>19/08/2017 20:00</td>\n",
       "      <td>6.56</td>\n",
       "      <td>20</td>\n",
       "      <td>19.65</td>\n",
       "      <td>971.09</td>\n",
       "      <td>1.60</td>\n",
       "      <td>48</td>\n",
       "      <td>174.285714</td>\n",
       "    </tr>\n",
       "  </tbody>\n",
       "</table>\n",
       "</div>"
      ],
      "text/plain": [
       "               date  pm10  hour      T       P  wind  hum     traffic\n",
       "0  19/08/2017 16:00  5.07    16  22.45  969.32  2.60   52  431.428571\n",
       "1  19/08/2017 17:00  5.40    17  22.28  969.42  2.99   50  425.714286\n",
       "2  19/08/2017 18:00  5.92    18  21.70  969.85  2.59   48  364.000000\n",
       "3  19/08/2017 19:00  6.12    19  20.69  970.32  1.97   48  248.285714\n",
       "4  19/08/2017 20:00  6.56    20  19.65  971.09  1.60   48  174.285714"
      ]
     },
     "execution_count": 80,
     "metadata": {},
     "output_type": "execute_result"
    }
   ],
   "source": [
    "dataset.head()"
   ]
  },
  {
   "cell_type": "code",
   "execution_count": 81,
   "metadata": {
    "collapsed": true
   },
   "outputs": [],
   "source": [
    "data = dataset.values"
   ]
  },
  {
   "cell_type": "code",
   "execution_count": 82,
   "metadata": {},
   "outputs": [
    {
     "data": {
      "text/plain": [
       "array([['19/08/2017 16:00', 5.07, 16, ..., 2.6, 52, 431.42857139999995],\n",
       "       ['19/08/2017 17:00', 5.4, 17, ..., 2.99, 50, 425.7142857],\n",
       "       ['19/08/2017 18:00', 5.92, 18, ..., 2.59, 48, 364.0],\n",
       "       ..., \n",
       "       ['25/08/2017 21:00', 16.35, 21, ..., 1.34, 67, 204.8571429],\n",
       "       ['25/08/2017 22:00', 19.08, 22, ..., 0.97, 67, 195.4285714],\n",
       "       ['25/08/2017 23:00', 15.31, 23, ..., 1.46, 77, 146.8571429]], dtype=object)"
      ]
     },
     "execution_count": 82,
     "metadata": {},
     "output_type": "execute_result"
    }
   ],
   "source": [
    "data"
   ]
  },
  {
   "cell_type": "code",
   "execution_count": 83,
   "metadata": {
    "collapsed": true
   },
   "outputs": [],
   "source": [
    "### split the data into training and test data"
   ]
  },
  {
   "cell_type": "code",
   "execution_count": 84,
   "metadata": {
    "collapsed": true
   },
   "outputs": [],
   "source": [
    "from sklearn.model_selection import train_test_split"
   ]
  },
  {
   "cell_type": "code",
   "execution_count": 85,
   "metadata": {
    "collapsed": true
   },
   "outputs": [],
   "source": [
    "# for now, simple univariate linear regression: traffic -> PM10"
   ]
  },
  {
   "cell_type": "code",
   "execution_count": 86,
   "metadata": {
    "collapsed": true
   },
   "outputs": [],
   "source": [
    "size = data[0].size\n",
    "X = data[:,2:]  # traffic\n",
    "y = data[:,1]  # PM10"
   ]
  },
  {
   "cell_type": "code",
   "execution_count": 87,
   "metadata": {
    "collapsed": true
   },
   "outputs": [],
   "source": [
    "X_train, X_test, y_train, y_test = train_test_split(X, y, test_size=0.2, random_state=42)"
   ]
  },
  {
   "cell_type": "code",
   "execution_count": 88,
   "metadata": {
    "collapsed": true
   },
   "outputs": [],
   "source": [
    "from sklearn import datasets, linear_model"
   ]
  },
  {
   "cell_type": "code",
   "execution_count": 89,
   "metadata": {
    "collapsed": true
   },
   "outputs": [],
   "source": [
    "regr = linear_model.LinearRegression()"
   ]
  },
  {
   "cell_type": "code",
   "execution_count": 90,
   "metadata": {},
   "outputs": [
    {
     "data": {
      "text/plain": [
       "LinearRegression(copy_X=True, fit_intercept=True, n_jobs=1, normalize=False)"
      ]
     },
     "execution_count": 90,
     "metadata": {},
     "output_type": "execute_result"
    }
   ],
   "source": [
    "regr.fit(X_train, y_train)"
   ]
  },
  {
   "cell_type": "code",
   "execution_count": 91,
   "metadata": {
    "collapsed": true
   },
   "outputs": [],
   "source": [
    "prediction = regr.predict(X_test)"
   ]
  },
  {
   "cell_type": "code",
   "execution_count": 92,
   "metadata": {
    "collapsed": true
   },
   "outputs": [],
   "source": [
    "from sklearn.metrics import mean_squared_error, r2_score"
   ]
  },
  {
   "cell_type": "code",
   "execution_count": 93,
   "metadata": {},
   "outputs": [
    {
     "name": "stdout",
     "output_type": "stream",
     "text": [
      "Mean squared error: 10.783178639906437\n",
      "Variance score: 0.6624574892369366\n"
     ]
    }
   ],
   "source": [
    "# The mean squared error\n",
    "print(\"Mean squared error: {}\".format(mean_squared_error(y_test, prediction)))\n",
    "# Variance score: 1 is perfect prediction\n",
    "print('Variance score: {}'.format(r2_score(y_test, prediction)))\n"
   ]
  },
  {
   "cell_type": "code",
   "execution_count": 94,
   "metadata": {
    "collapsed": true
   },
   "outputs": [],
   "source": [
    "# plotting the predictions against the real values"
   ]
  },
  {
   "cell_type": "code",
   "execution_count": 95,
   "metadata": {},
   "outputs": [
    {
     "data": {
      "text/plain": [
       "array([ 10.31371832,   9.48154315,  12.74862548,  11.62813979,\n",
       "        15.94091591,   4.34371813,  10.49219909,  16.15840619,\n",
       "         8.17319   ,  12.74612375,  11.50725065,   8.99720749,\n",
       "         9.08552271,   8.27695399,   9.26696263,  17.73835111,\n",
       "        17.44124559,  13.54232207,   9.7732398 ,  17.29313165,\n",
       "         5.01521194,  12.88868342,   6.55090614,  14.25244517,\n",
       "        14.74091245,  14.91889445,  20.20735033,  12.79497236,\n",
       "        14.71885466,   4.92958469,   7.84277515])"
      ]
     },
     "execution_count": 95,
     "metadata": {},
     "output_type": "execute_result"
    }
   ],
   "source": [
    "prediction"
   ]
  },
  {
   "cell_type": "code",
   "execution_count": 96,
   "metadata": {},
   "outputs": [
    {
     "data": {
      "text/plain": [
       "array([9.46, 6.66, 10.72, 9.93, 12.98, 7.59, 8.59, 19.05, 8.61, 11.38,\n",
       "       15.06, 6.82, 7.7, 6.94, 5.99, 15.56, 23.16, 17.21, 7.85, 14.04,\n",
       "       6.61, 11.51, 3.87, 14.25, 9.27, 14.53, 31.05, 9.75, 15.12, 7.88,\n",
       "       4.55], dtype=object)"
      ]
     },
     "execution_count": 96,
     "metadata": {},
     "output_type": "execute_result"
    }
   ],
   "source": [
    "y_test"
   ]
  },
  {
   "cell_type": "code",
   "execution_count": 97,
   "metadata": {},
   "outputs": [
    {
     "data": {
      "image/png": "[encoded data removed]",
      "text/plain": [
       "<matplotlib.figure.Figure at 0x20de37bb208>"
      ]
     },
     "metadata": {},
     "output_type": "display_data"
    }
   ],
   "source": [
    "plt.plot(prediction, label='prediction')\n",
    "plt.plot(y_test, label='actual')\n",
    "plt.xlabel('day')\n",
    "plt.ylabel('PM10')\n",
    "plt.legend(loc='upper center', shadow=True)\n",
    "plt.show()"
   ]
  },
  {
   "cell_type": "code",
   "execution_count": null,
   "metadata": {
    "collapsed": true
   },
   "outputs": [],
   "source": []
  }
 ],
 "metadata": {
  "kernelspec": {
   "display_name": "Python 3",
   "language": "python",
   "name": "python3"
  },
  "language_info": {
   "codemirror_mode": {
    "name": "ipython",
    "version": 3
   },
   "file_extension": ".py",
   "mimetype": "text/x-python",
   "name": "python",
   "nbconvert_exporter": "python",
   "pygments_lexer": "ipython3",
   "version": "3.5.3"
  }
 },
 "nbformat": 4,
 "nbformat_minor": 2
}
