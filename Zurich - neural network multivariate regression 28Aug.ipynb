{
 "cells": [
  {
   "cell_type": "markdown",
   "metadata": {},
   "source": [
    "# Implementing a feed-forward neural network on the Zurich data"
   ]
  },
  {
   "cell_type": "markdown",
   "metadata": {},
   "source": [
    "### Part 1: data prep"
   ]
  },
  {
   "cell_type": "code",
   "execution_count": 1,
   "metadata": {
    "collapsed": true
   },
   "outputs": [],
   "source": [
    "import numpy as np\n",
    "import pandas as pd"
   ]
  },
  {
   "cell_type": "code",
   "execution_count": 2,
   "metadata": {
    "collapsed": true
   },
   "outputs": [],
   "source": [
    "seed = 7\n",
    "np.random.seed(seed)\n",
    "dataset = pd.read_csv(r'zurich.csv')\n",
    "dataset.dropna(inplace=True)"
   ]
  },
  {
   "cell_type": "code",
   "execution_count": 3,
   "metadata": {},
   "outputs": [
    {
     "data": {
      "text/html": [
       "<div>\n",
       "<style>\n",
       "    .dataframe thead tr:only-child th {\n",
       "        text-align: right;\n",
       "    }\n",
       "\n",
       "    .dataframe thead th {\n",
       "        text-align: left;\n",
       "    }\n",
       "\n",
       "    .dataframe tbody tr th {\n",
       "        vertical-align: top;\n",
       "    }\n",
       "</style>\n",
       "<table border=\"1\" class=\"dataframe\">\n",
       "  <thead>\n",
       "    <tr style=\"text-align: right;\">\n",
       "      <th></th>\n",
       "      <th>date</th>\n",
       "      <th>pm10</th>\n",
       "      <th>hour</th>\n",
       "      <th>T</th>\n",
       "      <th>P</th>\n",
       "      <th>wind</th>\n",
       "      <th>hum</th>\n",
       "      <th>traffic</th>\n",
       "    </tr>\n",
       "  </thead>\n",
       "  <tbody>\n",
       "    <tr>\n",
       "      <th>0</th>\n",
       "      <td>19/08/2017 16:00</td>\n",
       "      <td>5.07</td>\n",
       "      <td>16</td>\n",
       "      <td>22.45</td>\n",
       "      <td>969.32</td>\n",
       "      <td>2.60</td>\n",
       "      <td>52</td>\n",
       "      <td>431.428571</td>\n",
       "    </tr>\n",
       "    <tr>\n",
       "      <th>1</th>\n",
       "      <td>19/08/2017 17:00</td>\n",
       "      <td>5.40</td>\n",
       "      <td>17</td>\n",
       "      <td>22.28</td>\n",
       "      <td>969.42</td>\n",
       "      <td>2.99</td>\n",
       "      <td>50</td>\n",
       "      <td>425.714286</td>\n",
       "    </tr>\n",
       "    <tr>\n",
       "      <th>2</th>\n",
       "      <td>19/08/2017 18:00</td>\n",
       "      <td>5.92</td>\n",
       "      <td>18</td>\n",
       "      <td>21.70</td>\n",
       "      <td>969.85</td>\n",
       "      <td>2.59</td>\n",
       "      <td>48</td>\n",
       "      <td>364.000000</td>\n",
       "    </tr>\n",
       "    <tr>\n",
       "      <th>3</th>\n",
       "      <td>19/08/2017 19:00</td>\n",
       "      <td>6.12</td>\n",
       "      <td>19</td>\n",
       "      <td>20.69</td>\n",
       "      <td>970.32</td>\n",
       "      <td>1.97</td>\n",
       "      <td>48</td>\n",
       "      <td>248.285714</td>\n",
       "    </tr>\n",
       "    <tr>\n",
       "      <th>4</th>\n",
       "      <td>19/08/2017 20:00</td>\n",
       "      <td>6.56</td>\n",
       "      <td>20</td>\n",
       "      <td>19.65</td>\n",
       "      <td>971.09</td>\n",
       "      <td>1.60</td>\n",
       "      <td>48</td>\n",
       "      <td>174.285714</td>\n",
       "    </tr>\n",
       "  </tbody>\n",
       "</table>\n",
       "</div>"
      ],
      "text/plain": [
       "               date  pm10  hour      T       P  wind  hum     traffic\n",
       "0  19/08/2017 16:00  5.07    16  22.45  969.32  2.60   52  431.428571\n",
       "1  19/08/2017 17:00  5.40    17  22.28  969.42  2.99   50  425.714286\n",
       "2  19/08/2017 18:00  5.92    18  21.70  969.85  2.59   48  364.000000\n",
       "3  19/08/2017 19:00  6.12    19  20.69  970.32  1.97   48  248.285714\n",
       "4  19/08/2017 20:00  6.56    20  19.65  971.09  1.60   48  174.285714"
      ]
     },
     "execution_count": 3,
     "metadata": {},
     "output_type": "execute_result"
    }
   ],
   "source": [
    "dataset.head()"
   ]
  },
  {
   "cell_type": "code",
   "execution_count": 4,
   "metadata": {
    "collapsed": true
   },
   "outputs": [],
   "source": [
    "dataset.dropna(inplace=True)"
   ]
  },
  {
   "cell_type": "code",
   "execution_count": 5,
   "metadata": {},
   "outputs": [
    {
     "data": {
      "text/html": [
       "<div>\n",
       "<style>\n",
       "    .dataframe thead tr:only-child th {\n",
       "        text-align: right;\n",
       "    }\n",
       "\n",
       "    .dataframe thead th {\n",
       "        text-align: left;\n",
       "    }\n",
       "\n",
       "    .dataframe tbody tr th {\n",
       "        vertical-align: top;\n",
       "    }\n",
       "</style>\n",
       "<table border=\"1\" class=\"dataframe\">\n",
       "  <thead>\n",
       "    <tr style=\"text-align: right;\">\n",
       "      <th></th>\n",
       "      <th>date</th>\n",
       "      <th>pm10</th>\n",
       "      <th>hour</th>\n",
       "      <th>T</th>\n",
       "      <th>P</th>\n",
       "      <th>wind</th>\n",
       "      <th>hum</th>\n",
       "      <th>traffic</th>\n",
       "    </tr>\n",
       "  </thead>\n",
       "  <tbody>\n",
       "    <tr>\n",
       "      <th>0</th>\n",
       "      <td>19/08/2017 16:00</td>\n",
       "      <td>5.07</td>\n",
       "      <td>16</td>\n",
       "      <td>22.45</td>\n",
       "      <td>969.32</td>\n",
       "      <td>2.60</td>\n",
       "      <td>52</td>\n",
       "      <td>431.428571</td>\n",
       "    </tr>\n",
       "    <tr>\n",
       "      <th>1</th>\n",
       "      <td>19/08/2017 17:00</td>\n",
       "      <td>5.40</td>\n",
       "      <td>17</td>\n",
       "      <td>22.28</td>\n",
       "      <td>969.42</td>\n",
       "      <td>2.99</td>\n",
       "      <td>50</td>\n",
       "      <td>425.714286</td>\n",
       "    </tr>\n",
       "    <tr>\n",
       "      <th>2</th>\n",
       "      <td>19/08/2017 18:00</td>\n",
       "      <td>5.92</td>\n",
       "      <td>18</td>\n",
       "      <td>21.70</td>\n",
       "      <td>969.85</td>\n",
       "      <td>2.59</td>\n",
       "      <td>48</td>\n",
       "      <td>364.000000</td>\n",
       "    </tr>\n",
       "    <tr>\n",
       "      <th>3</th>\n",
       "      <td>19/08/2017 19:00</td>\n",
       "      <td>6.12</td>\n",
       "      <td>19</td>\n",
       "      <td>20.69</td>\n",
       "      <td>970.32</td>\n",
       "      <td>1.97</td>\n",
       "      <td>48</td>\n",
       "      <td>248.285714</td>\n",
       "    </tr>\n",
       "    <tr>\n",
       "      <th>4</th>\n",
       "      <td>19/08/2017 20:00</td>\n",
       "      <td>6.56</td>\n",
       "      <td>20</td>\n",
       "      <td>19.65</td>\n",
       "      <td>971.09</td>\n",
       "      <td>1.60</td>\n",
       "      <td>48</td>\n",
       "      <td>174.285714</td>\n",
       "    </tr>\n",
       "  </tbody>\n",
       "</table>\n",
       "</div>"
      ],
      "text/plain": [
       "               date  pm10  hour      T       P  wind  hum     traffic\n",
       "0  19/08/2017 16:00  5.07    16  22.45  969.32  2.60   52  431.428571\n",
       "1  19/08/2017 17:00  5.40    17  22.28  969.42  2.99   50  425.714286\n",
       "2  19/08/2017 18:00  5.92    18  21.70  969.85  2.59   48  364.000000\n",
       "3  19/08/2017 19:00  6.12    19  20.69  970.32  1.97   48  248.285714\n",
       "4  19/08/2017 20:00  6.56    20  19.65  971.09  1.60   48  174.285714"
      ]
     },
     "execution_count": 5,
     "metadata": {},
     "output_type": "execute_result"
    }
   ],
   "source": [
    "dataset.head()"
   ]
  },
  {
   "cell_type": "code",
   "execution_count": 6,
   "metadata": {
    "collapsed": true
   },
   "outputs": [],
   "source": [
    "data = dataset.values"
   ]
  },
  {
   "cell_type": "code",
   "execution_count": 7,
   "metadata": {},
   "outputs": [
    {
     "data": {
      "text/plain": [
       "array([['19/08/2017 16:00', 5.07, 16, ..., 2.6, 52, 431.42857139999995],\n",
       "       ['19/08/2017 17:00', 5.4, 17, ..., 2.99, 50, 425.7142857],\n",
       "       ['19/08/2017 18:00', 5.92, 18, ..., 2.59, 48, 364.0],\n",
       "       ..., \n",
       "       ['25/08/2017 21:00', 16.35, 21, ..., 1.34, 67, 204.8571429],\n",
       "       ['25/08/2017 22:00', 19.08, 22, ..., 0.97, 67, 195.4285714],\n",
       "       ['25/08/2017 23:00', 15.31, 23, ..., 1.46, 77, 146.8571429]], dtype=object)"
      ]
     },
     "execution_count": 7,
     "metadata": {},
     "output_type": "execute_result"
    }
   ],
   "source": [
    "data"
   ]
  },
  {
   "cell_type": "code",
   "execution_count": 8,
   "metadata": {
    "collapsed": true
   },
   "outputs": [],
   "source": [
    "### split the data into training and test data"
   ]
  },
  {
   "cell_type": "code",
   "execution_count": 9,
   "metadata": {
    "collapsed": true
   },
   "outputs": [],
   "source": [
    "from sklearn.model_selection import train_test_split"
   ]
  },
  {
   "cell_type": "code",
   "execution_count": 26,
   "metadata": {
    "collapsed": true
   },
   "outputs": [],
   "source": [
    "size = data[0].size\n",
    "X = data[:,3:]  # features\n",
    "y = data[:,1]  # label PM10"
   ]
  },
  {
   "cell_type": "code",
   "execution_count": 27,
   "metadata": {},
   "outputs": [
    {
     "name": "stdout",
     "output_type": "stream",
     "text": [
      "Features: [[22.45 969.32 2.6 52 431.42857139999995]\n",
      " [22.28 969.42 2.99 50 425.7142857]\n",
      " [21.7 969.85 2.59 48 364.0]]\n",
      "Labels: [5.07 5.4 5.92]\n"
     ]
    }
   ],
   "source": [
    "print(\"Features: {}\".format(X[:3]))  # just checking the data split worked ok\n",
    "print(\"Labels: {}\".format(y[:3]))"
   ]
  },
  {
   "cell_type": "code",
   "execution_count": 28,
   "metadata": {
    "collapsed": true
   },
   "outputs": [],
   "source": [
    "X_train, X_test, y_train, y_test = train_test_split(X, y, test_size=0.25, random_state=42)"
   ]
  },
  {
   "cell_type": "code",
   "execution_count": 29,
   "metadata": {},
   "outputs": [],
   "source": [
    "in_dim = X_train.shape[1]"
   ]
  },
  {
   "cell_type": "code",
   "execution_count": 30,
   "metadata": {},
   "outputs": [
    {
     "name": "stdout",
     "output_type": "stream",
     "text": [
      "5\n"
     ]
    }
   ],
   "source": [
    "print(in_dim)"
   ]
  },
  {
   "cell_type": "markdown",
   "metadata": {},
   "source": [
    "### Part 2 The neural network\n",
    "#### Define the neural network model"
   ]
  },
  {
   "cell_type": "code",
   "execution_count": 31,
   "metadata": {},
   "outputs": [],
   "source": [
    "from keras.models import Sequential\n",
    "from keras.layers import Dense\n",
    "from keras.wrappers.scikit_learn import KerasRegressor\n",
    "from sklearn.preprocessing import StandardScaler"
   ]
  },
  {
   "cell_type": "code",
   "execution_count": 65,
   "metadata": {
    "collapsed": true
   },
   "outputs": [],
   "source": [
    "##define base model\n",
    "def base_model():\n",
    "     model = Sequential()\n",
    "     model.add(Dense(15, kernel_initializer='normal', input_dim=in_dim, activation='relu'))\n",
    "     model.add(Dense(1))\n",
    "     model.compile(loss='mean_squared_error', optimizer = 'adam')\n",
    "     return model"
   ]
  },
  {
   "cell_type": "code",
   "execution_count": 66,
   "metadata": {
    "collapsed": true
   },
   "outputs": [],
   "source": [
    "# build a KerasRegressor"
   ]
  },
  {
   "cell_type": "code",
   "execution_count": 67,
   "metadata": {},
   "outputs": [],
   "source": [
    "regressor =  KerasRegressor(build_fn=base_model, epochs=100, batch_size=5, verbose=1)"
   ]
  },
  {
   "cell_type": "code",
   "execution_count": 68,
   "metadata": {},
   "outputs": [
    {
     "name": "stdout",
     "output_type": "stream",
     "text": [
      "Epoch 1/100\n",
      "113/113 [==============================] - 0s - loss: 7040.4963      \n",
      "Epoch 2/100\n",
      "113/113 [==============================] - 0s - loss: 736.4370      \n",
      "Epoch 3/100\n",
      "113/113 [==============================] - 0s - loss: 78.8023      \n",
      "Epoch 4/100\n",
      "113/113 [==============================] - 0s - loss: 32.3979     \n",
      "Epoch 5/100\n",
      "113/113 [==============================] - 0s - loss: 30.7491     \n",
      "Epoch 6/100\n",
      "113/113 [==============================] - 0s - loss: 29.2639     \n",
      "Epoch 7/100\n",
      "113/113 [==============================] - 0s - loss: 28.5104     \n",
      "Epoch 8/100\n",
      "113/113 [==============================] - 0s - loss: 28.0063     \n",
      "Epoch 9/100\n",
      "113/113 [==============================] - 0s - loss: 27.6888     \n",
      "Epoch 10/100\n",
      "113/113 [==============================] - 0s - loss: 27.0634     \n",
      "Epoch 11/100\n",
      "113/113 [==============================] - 0s - loss: 26.7839    \n",
      "Epoch 12/100\n",
      "113/113 [==============================] - 0s - loss: 26.6066     \n",
      "Epoch 13/100\n",
      "113/113 [==============================] - 0s - loss: 26.2640     \n",
      "Epoch 14/100\n",
      "113/113 [==============================] - 0s - loss: 26.1914    \n",
      "Epoch 15/100\n",
      "113/113 [==============================] - 0s - loss: 26.2138     \n",
      "Epoch 16/100\n",
      "113/113 [==============================] - 0s - loss: 25.8470     \n",
      "Epoch 17/100\n",
      "113/113 [==============================] - 0s - loss: 25.9109     \n",
      "Epoch 18/100\n",
      "113/113 [==============================] - 0s - loss: 26.5199     \n",
      "Epoch 19/100\n",
      "113/113 [==============================] - 0s - loss: 25.9630     \n",
      "Epoch 20/100\n",
      "113/113 [==============================] - 0s - loss: 26.0196    \n",
      "Epoch 21/100\n",
      "113/113 [==============================] - 0s - loss: 25.5273     \n",
      "Epoch 22/100\n",
      "113/113 [==============================] - 0s - loss: 25.5478    \n",
      "Epoch 23/100\n",
      "113/113 [==============================] - 0s - loss: 25.7191     \n",
      "Epoch 24/100\n",
      "113/113 [==============================] - 0s - loss: 25.9242     \n",
      "Epoch 25/100\n",
      "113/113 [==============================] - 0s - loss: 25.8571     \n",
      "Epoch 26/100\n",
      "113/113 [==============================] - 0s - loss: 25.5114    \n",
      "Epoch 27/100\n",
      "113/113 [==============================] - 0s - loss: 25.3395     \n",
      "Epoch 28/100\n",
      "113/113 [==============================] - 0s - loss: 25.3610    \n",
      "Epoch 29/100\n",
      "113/113 [==============================] - 0s - loss: 25.4868     \n",
      "Epoch 30/100\n",
      "113/113 [==============================] - 0s - loss: 25.0897     \n",
      "Epoch 31/100\n",
      "113/113 [==============================] - 0s - loss: 25.2021     \n",
      "Epoch 32/100\n",
      "113/113 [==============================] - 0s - loss: 25.3269     \n",
      "Epoch 33/100\n",
      "113/113 [==============================] - 0s - loss: 25.2462     \n",
      "Epoch 34/100\n",
      "113/113 [==============================] - 0s - loss: 25.4379     \n",
      "Epoch 35/100\n",
      "113/113 [==============================] - 0s - loss: 25.5015     \n",
      "Epoch 36/100\n",
      "113/113 [==============================] - 0s - loss: 25.2782     \n",
      "Epoch 37/100\n",
      "113/113 [==============================] - 0s - loss: 25.1889     \n",
      "Epoch 38/100\n",
      "113/113 [==============================] - 0s - loss: 25.5657     \n",
      "Epoch 39/100\n",
      "113/113 [==============================] - 0s - loss: 25.1847     \n",
      "Epoch 40/100\n",
      "113/113 [==============================] - 0s - loss: 25.1189     \n",
      "Epoch 41/100\n",
      "113/113 [==============================] - 0s - loss: 25.4916     \n",
      "Epoch 42/100\n",
      "113/113 [==============================] - 0s - loss: 25.5866     \n",
      "Epoch 43/100\n",
      "113/113 [==============================] - 0s - loss: 24.5849    \n",
      "Epoch 44/100\n",
      "113/113 [==============================] - 0s - loss: 24.5324     \n",
      "Epoch 45/100\n",
      "113/113 [==============================] - 0s - loss: 25.0229     \n",
      "Epoch 46/100\n",
      "113/113 [==============================] - 0s - loss: 24.3779     \n",
      "Epoch 47/100\n",
      "113/113 [==============================] - 0s - loss: 25.7499     \n",
      "Epoch 48/100\n",
      "113/113 [==============================] - 0s - loss: 25.6669     \n",
      "Epoch 49/100\n",
      "113/113 [==============================] - 0s - loss: 24.3945     \n",
      "Epoch 50/100\n",
      "113/113 [==============================] - 0s - loss: 24.9640    \n",
      "Epoch 51/100\n",
      "113/113 [==============================] - 0s - loss: 24.8312     \n",
      "Epoch 52/100\n",
      "113/113 [==============================] - 0s - loss: 24.1962     \n",
      "Epoch 53/100\n",
      "113/113 [==============================] - 0s - loss: 23.7242     \n",
      "Epoch 54/100\n",
      "113/113 [==============================] - 0s - loss: 24.0617     \n",
      "Epoch 55/100\n",
      "113/113 [==============================] - 0s - loss: 24.8360     \n",
      "Epoch 56/100\n",
      "113/113 [==============================] - 0s - loss: 23.7313     \n",
      "Epoch 57/100\n",
      "113/113 [==============================] - 0s - loss: 23.5007     \n",
      "Epoch 58/100\n",
      "113/113 [==============================] - 0s - loss: 24.2714     \n",
      "Epoch 59/100\n",
      "113/113 [==============================] - 0s - loss: 23.2915     \n",
      "Epoch 60/100\n",
      "113/113 [==============================] - 0s - loss: 26.0253    \n",
      "Epoch 61/100\n",
      "113/113 [==============================] - 0s - loss: 24.8933    \n",
      "Epoch 62/100\n",
      "113/113 [==============================] - 0s - loss: 23.6575     \n",
      "Epoch 63/100\n",
      "113/113 [==============================] - 0s - loss: 23.2537     \n",
      "Epoch 64/100\n",
      "113/113 [==============================] - 0s - loss: 23.1932     \n",
      "Epoch 65/100\n",
      "113/113 [==============================] - 0s - loss: 23.2787    \n",
      "Epoch 66/100\n",
      "113/113 [==============================] - 0s - loss: 23.1859     \n",
      "Epoch 67/100\n",
      "113/113 [==============================] - 0s - loss: 23.2528    \n",
      "Epoch 68/100\n",
      "113/113 [==============================] - 0s - loss: 23.8309    \n",
      "Epoch 69/100\n",
      "113/113 [==============================] - 0s - loss: 25.0584     \n",
      "Epoch 70/100\n",
      "113/113 [==============================] - 0s - loss: 23.0675     \n",
      "Epoch 71/100\n",
      "113/113 [==============================] - 0s - loss: 23.4463     \n",
      "Epoch 72/100\n",
      "113/113 [==============================] - 0s - loss: 23.1342     \n",
      "Epoch 73/100\n",
      "113/113 [==============================] - 0s - loss: 23.3632    \n",
      "Epoch 74/100\n",
      "113/113 [==============================] - 0s - loss: 23.3552     \n",
      "Epoch 75/100\n",
      "113/113 [==============================] - 0s - loss: 23.2842     \n",
      "Epoch 76/100\n",
      "113/113 [==============================] - 0s - loss: 23.4432     \n",
      "Epoch 77/100\n",
      "113/113 [==============================] - 0s - loss: 23.6570    \n",
      "Epoch 78/100\n",
      "113/113 [==============================] - 0s - loss: 23.1545     \n",
      "Epoch 79/100\n",
      "113/113 [==============================] - 0s - loss: 23.6006     \n",
      "Epoch 80/100\n",
      "113/113 [==============================] - 0s - loss: 23.3480     \n",
      "Epoch 81/100\n",
      "113/113 [==============================] - 0s - loss: 22.9114     \n",
      "Epoch 82/100\n",
      "113/113 [==============================] - 0s - loss: 23.4113     \n",
      "Epoch 83/100\n",
      "113/113 [==============================] - 0s - loss: 23.0543     \n",
      "Epoch 84/100\n",
      "113/113 [==============================] - 0s - loss: 23.4486    \n",
      "Epoch 85/100\n",
      "113/113 [==============================] - 0s - loss: 22.3495     \n",
      "Epoch 86/100\n",
      "113/113 [==============================] - 0s - loss: 22.6777    \n",
      "Epoch 87/100\n",
      "113/113 [==============================] - 0s - loss: 23.4487     \n",
      "Epoch 88/100\n",
      "113/113 [==============================] - 0s - loss: 24.2777     \n",
      "Epoch 89/100\n",
      "113/113 [==============================] - 0s - loss: 22.6170     \n",
      "Epoch 90/100\n",
      "113/113 [==============================] - 0s - loss: 22.7595     \n",
      "Epoch 91/100\n",
      "113/113 [==============================] - 0s - loss: 22.5986     \n",
      "Epoch 92/100\n",
      "113/113 [==============================] - 0s - loss: 22.5531     \n",
      "Epoch 93/100\n",
      "113/113 [==============================] - 0s - loss: 22.4879     \n",
      "Epoch 94/100\n",
      "113/113 [==============================] - 0s - loss: 22.7835     \n",
      "Epoch 95/100\n",
      "113/113 [==============================] - 0s - loss: 23.0736    \n",
      "Epoch 96/100\n",
      "113/113 [==============================] - 0s - loss: 23.2546     \n",
      "Epoch 97/100\n",
      "113/113 [==============================] - 0s - loss: 22.6157     \n",
      "Epoch 98/100\n",
      "113/113 [==============================] - 0s - loss: 22.8417     \n",
      "Epoch 99/100\n",
      "113/113 [==============================] - 0s - loss: 22.0012     \n",
      "Epoch 100/100\n",
      "113/113 [==============================] - 0s - loss: 22.0630     \n"
     ]
    },
    {
     "data": {
      "text/plain": [
       "<keras.callbacks.History at 0x16ed7e43ef0>"
      ]
     },
     "execution_count": 68,
     "metadata": {},
     "output_type": "execute_result"
    }
   ],
   "source": [
    "regressor.fit(X_train, y_train)"
   ]
  },
  {
   "cell_type": "code",
   "execution_count": 69,
   "metadata": {},
   "outputs": [
    {
     "name": "stdout",
     "output_type": "stream",
     "text": [
      " 5/38 [==>...........................] - ETA: 0s\n",
      "Mean squared error on test data: 19.118994336379203\n"
     ]
    }
   ],
   "source": [
    "score = regressor.score(X_test, y_test)\n",
    "print(\"\\nMean squared error on test data: {}\".format(score))"
   ]
  },
  {
   "cell_type": "code",
   "execution_count": 70,
   "metadata": {},
   "outputs": [
    {
     "name": "stdout",
     "output_type": "stream",
     "text": [
      "\r",
      " 5/38 [==>...........................] - ETA: 0s"
     ]
    }
   ],
   "source": [
    "prediction = regressor.predict(X_test)"
   ]
  },
  {
   "cell_type": "code",
   "execution_count": 71,
   "metadata": {
    "collapsed": true
   },
   "outputs": [],
   "source": [
    "import matplotlib.pyplot as plt"
   ]
  },
  {
   "cell_type": "code",
   "execution_count": 72,
   "metadata": {
    "collapsed": true
   },
   "outputs": [],
   "source": [
    "# plotting the predictions against the real values"
   ]
  },
  {
   "cell_type": "code",
   "execution_count": 73,
   "metadata": {},
   "outputs": [
    {
     "data": {
      "image/png": "[encoded data removed]",
      "text/plain": [
       "<matplotlib.figure.Figure at 0x16ed7ef6c50>"
      ]
     },
     "metadata": {},
     "output_type": "display_data"
    }
   ],
   "source": [
    "plt.plot(prediction, label='prediction')\n",
    "plt.plot(y_test, label='actual')\n",
    "plt.xlabel('hour')\n",
    "plt.ylabel('PM10')\n",
    "plt.legend(loc='upper left', shadow=True)\n",
    "plt.show()"
   ]
  },
  {
   "cell_type": "code",
   "execution_count": null,
   "metadata": {
    "collapsed": true
   },
   "outputs": [],
   "source": []
  },
  {
   "cell_type": "code",
   "execution_count": null,
   "metadata": {
    "collapsed": true
   },
   "outputs": [],
   "source": []
  }
 ],
 "metadata": {
  "kernelspec": {
   "display_name": "Python 3",
   "language": "python",
   "name": "python3"
  },
  "language_info": {
   "codemirror_mode": {
    "name": "ipython",
    "version": 3
   },
   "file_extension": ".py",
   "mimetype": "text/x-python",
   "name": "python",
   "nbconvert_exporter": "python",
   "pygments_lexer": "ipython3",
   "version": "3.5.3"
  }
 },
 "nbformat": 4,
 "nbformat_minor": 2
}
